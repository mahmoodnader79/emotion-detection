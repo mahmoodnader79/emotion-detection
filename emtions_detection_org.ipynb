{
 "cells": [
  {
   "cell_type": "code",
   "execution_count": 1,
   "metadata": {},
   "outputs": [],
   "source": [
    "from sklearn.feature_extraction.text import TfidfVectorizer\n",
    "import tensorflow as tf\n",
    "import tensorflow as tf\n",
    "from tensorflow.keras.layers import Input, Dropout, Dense\n",
    "from tensorflow.keras.models import Model\n",
    "from tensorflow.keras.optimizers import Adam\n",
    "from tensorflow.keras.callbacks import EarlyStopping\n",
    "from tensorflow.keras.preprocessing.sequence import pad_sequences\n",
    "\n",
    "import pandas as pd\n",
    "import numpy as np\n",
    "import re\n",
    "from sklearn.feature_extraction.text import TfidfVectorizer\n",
    "from sklearn.model_selection import train_test_split\n",
    "from sklearn.naive_bayes import MultinomialNB\n",
    "from sklearn.tree import DecisionTreeClassifier\n",
    "from sklearn.ensemble import AdaBoostClassifier\n",
    "from sklearn.ensemble import RandomForestClassifier\n",
    "from sklearn.metrics import accuracy_score,confusion_matrix,classification_report\n",
    "from sklearn.model_selection import train_test_split\n",
    "\n",
    "import seaborn as sns\n",
    "import matplotlib.pyplot as plt\n",
    "from sklearn.preprocessing import LabelEncoder\n",
    "\n",
    "from tensorflow.keras.preprocessing.sequence import pad_sequences\n",
    "from tensorflow.keras.models import Sequential\n",
    "\n",
    "from tensorflow.keras import layers, Model\n",
    "\n",
    "from tensorflow.keras.models import load_model\n",
    "import os\n",
    "from keras.layers import Embedding\n",
    "from keras.layers import GlobalAvgPool1D\n",
    "from keras.layers import Embedding"
   ]
  },
  {
   "cell_type": "code",
   "execution_count": 2,
   "metadata": {},
   "outputs": [],
   "source": [
    "directory_path = os.getcwd()\n",
    "\n",
    "# Create an empty DataFrame to store the merged data\n",
    "merged_df = pd.DataFrame()\n",
    "\n",
    "# Loop through XLSX files and merge them\n",
    "for filename in os.listdir(directory_path):\n",
    "    if filename.endswith('.csv'):\n",
    "        file_path = os.path.join(directory_path, filename)\n",
    "        df = pd.read_csv(file_path)\n",
    "        merged_df = pd.concat([merged_df, df], ignore_index=True)"
   ]
  },
  {
   "cell_type": "code",
   "execution_count": 3,
   "metadata": {},
   "outputs": [
    {
     "data": {
      "text/html": [
       "<div>\n",
       "<style scoped>\n",
       "    .dataframe tbody tr th:only-of-type {\n",
       "        vertical-align: middle;\n",
       "    }\n",
       "\n",
       "    .dataframe tbody tr th {\n",
       "        vertical-align: top;\n",
       "    }\n",
       "\n",
       "    .dataframe thead th {\n",
       "        text-align: right;\n",
       "    }\n",
       "</style>\n",
       "<table border=\"1\" class=\"dataframe\">\n",
       "  <thead>\n",
       "    <tr style=\"text-align: right;\">\n",
       "      <th></th>\n",
       "      <th>text</th>\n",
       "      <th>label</th>\n",
       "    </tr>\n",
       "  </thead>\n",
       "  <tbody>\n",
       "    <tr>\n",
       "      <th>0</th>\n",
       "      <td>im feeling rather rotten so im not very ambiti...</td>\n",
       "      <td>0</td>\n",
       "    </tr>\n",
       "    <tr>\n",
       "      <th>1</th>\n",
       "      <td>im updating my blog because i feel shitty</td>\n",
       "      <td>0</td>\n",
       "    </tr>\n",
       "    <tr>\n",
       "      <th>2</th>\n",
       "      <td>i never make her separate from me because i do...</td>\n",
       "      <td>0</td>\n",
       "    </tr>\n",
       "    <tr>\n",
       "      <th>3</th>\n",
       "      <td>i left with my bouquet of red and yellow tulip...</td>\n",
       "      <td>1</td>\n",
       "    </tr>\n",
       "    <tr>\n",
       "      <th>4</th>\n",
       "      <td>i was feeling a little vain when i did this one</td>\n",
       "      <td>0</td>\n",
       "    </tr>\n",
       "    <tr>\n",
       "      <th>...</th>\n",
       "      <td>...</td>\n",
       "      <td>...</td>\n",
       "    </tr>\n",
       "    <tr>\n",
       "      <th>19995</th>\n",
       "      <td>im having ssa examination tomorrow in the morn...</td>\n",
       "      <td>0</td>\n",
       "    </tr>\n",
       "    <tr>\n",
       "      <th>19996</th>\n",
       "      <td>i constantly worry about their fight against n...</td>\n",
       "      <td>1</td>\n",
       "    </tr>\n",
       "    <tr>\n",
       "      <th>19997</th>\n",
       "      <td>i feel its important to share this info for th...</td>\n",
       "      <td>1</td>\n",
       "    </tr>\n",
       "    <tr>\n",
       "      <th>19998</th>\n",
       "      <td>i truly feel that if you are passionate enough...</td>\n",
       "      <td>1</td>\n",
       "    </tr>\n",
       "    <tr>\n",
       "      <th>19999</th>\n",
       "      <td>i feel like i just wanna buy any cute make up ...</td>\n",
       "      <td>1</td>\n",
       "    </tr>\n",
       "  </tbody>\n",
       "</table>\n",
       "<p>20000 rows × 2 columns</p>\n",
       "</div>"
      ],
      "text/plain": [
       "                                                    text  label\n",
       "0      im feeling rather rotten so im not very ambiti...      0\n",
       "1              im updating my blog because i feel shitty      0\n",
       "2      i never make her separate from me because i do...      0\n",
       "3      i left with my bouquet of red and yellow tulip...      1\n",
       "4        i was feeling a little vain when i did this one      0\n",
       "...                                                  ...    ...\n",
       "19995  im having ssa examination tomorrow in the morn...      0\n",
       "19996  i constantly worry about their fight against n...      1\n",
       "19997  i feel its important to share this info for th...      1\n",
       "19998  i truly feel that if you are passionate enough...      1\n",
       "19999  i feel like i just wanna buy any cute make up ...      1\n",
       "\n",
       "[20000 rows x 2 columns]"
      ]
     },
     "execution_count": 3,
     "metadata": {},
     "output_type": "execute_result"
    }
   ],
   "source": [
    "df = merged_df\n",
    "df"
   ]
  },
  {
   "cell_type": "code",
   "execution_count": 4,
   "metadata": {},
   "outputs": [],
   "source": [
    "symbols_list = ['!', '?', '_', '„', 'ک', 'â', '.', '€', '™', '¦', '£ً', '¤', 'ں', '¨', ',', '$', '~', '%', '^', '&', '*', ';', ':', '', '\"']\n",
    "df['text'] = df['text'].apply(lambda x: re.sub(r'[{}]'.format(''.join(symbols_list)), '', x))\n",
    "df['text'] = df['text'].apply(lambda x: re.sub(r'http\\S+', '', x))\n",
    "df = df.dropna()"
   ]
  },
  {
   "cell_type": "code",
   "execution_count": 5,
   "metadata": {},
   "outputs": [
    {
     "data": {
      "text/html": [
       "<div>\n",
       "<style scoped>\n",
       "    .dataframe tbody tr th:only-of-type {\n",
       "        vertical-align: middle;\n",
       "    }\n",
       "\n",
       "    .dataframe tbody tr th {\n",
       "        vertical-align: top;\n",
       "    }\n",
       "\n",
       "    .dataframe thead th {\n",
       "        text-align: right;\n",
       "    }\n",
       "</style>\n",
       "<table border=\"1\" class=\"dataframe\">\n",
       "  <thead>\n",
       "    <tr style=\"text-align: right;\">\n",
       "      <th></th>\n",
       "      <th>text</th>\n",
       "      <th>label</th>\n",
       "    </tr>\n",
       "  </thead>\n",
       "  <tbody>\n",
       "    <tr>\n",
       "      <th>0</th>\n",
       "      <td>im feeling rather rotten so im not very ambiti...</td>\n",
       "      <td>0</td>\n",
       "    </tr>\n",
       "    <tr>\n",
       "      <th>1</th>\n",
       "      <td>im updating my blog because i feel shitty</td>\n",
       "      <td>0</td>\n",
       "    </tr>\n",
       "    <tr>\n",
       "      <th>2</th>\n",
       "      <td>i never make her separate from me because i do...</td>\n",
       "      <td>0</td>\n",
       "    </tr>\n",
       "    <tr>\n",
       "      <th>3</th>\n",
       "      <td>i left with my bouquet of red and yellow tulip...</td>\n",
       "      <td>1</td>\n",
       "    </tr>\n",
       "    <tr>\n",
       "      <th>4</th>\n",
       "      <td>i was feeling a little vain when i did this one</td>\n",
       "      <td>0</td>\n",
       "    </tr>\n",
       "    <tr>\n",
       "      <th>...</th>\n",
       "      <td>...</td>\n",
       "      <td>...</td>\n",
       "    </tr>\n",
       "    <tr>\n",
       "      <th>19995</th>\n",
       "      <td>im having ssa examination tomorrow in the morn...</td>\n",
       "      <td>0</td>\n",
       "    </tr>\n",
       "    <tr>\n",
       "      <th>19996</th>\n",
       "      <td>i constantly worry about their fight against n...</td>\n",
       "      <td>1</td>\n",
       "    </tr>\n",
       "    <tr>\n",
       "      <th>19997</th>\n",
       "      <td>i feel its important to share this info for th...</td>\n",
       "      <td>1</td>\n",
       "    </tr>\n",
       "    <tr>\n",
       "      <th>19998</th>\n",
       "      <td>i truly feel that if you are passionate enough...</td>\n",
       "      <td>1</td>\n",
       "    </tr>\n",
       "    <tr>\n",
       "      <th>19999</th>\n",
       "      <td>i feel like i just wanna buy any cute make up ...</td>\n",
       "      <td>1</td>\n",
       "    </tr>\n",
       "  </tbody>\n",
       "</table>\n",
       "<p>20000 rows × 2 columns</p>\n",
       "</div>"
      ],
      "text/plain": [
       "                                                    text  label\n",
       "0      im feeling rather rotten so im not very ambiti...      0\n",
       "1              im updating my blog because i feel shitty      0\n",
       "2      i never make her separate from me because i do...      0\n",
       "3      i left with my bouquet of red and yellow tulip...      1\n",
       "4        i was feeling a little vain when i did this one      0\n",
       "...                                                  ...    ...\n",
       "19995  im having ssa examination tomorrow in the morn...      0\n",
       "19996  i constantly worry about their fight against n...      1\n",
       "19997  i feel its important to share this info for th...      1\n",
       "19998  i truly feel that if you are passionate enough...      1\n",
       "19999  i feel like i just wanna buy any cute make up ...      1\n",
       "\n",
       "[20000 rows x 2 columns]"
      ]
     },
     "execution_count": 5,
     "metadata": {},
     "output_type": "execute_result"
    }
   ],
   "source": [
    "df"
   ]
  },
  {
   "cell_type": "code",
   "execution_count": 4,
   "metadata": {},
   "outputs": [],
   "source": [
    "from sklearn.feature_extraction.text import TfidfVectorizer\n",
    "from sklearn import model_selection, naive_bayes, svm\n",
    "from sklearn.metrics import accuracy_score"
   ]
  },
  {
   "cell_type": "code",
   "execution_count": 7,
   "metadata": {},
   "outputs": [],
   "source": [
    "vectorizer = TfidfVectorizer()\n",
    "\n",
    "\n",
    "X = vectorizer.fit_transform(df['text'])"
   ]
  },
  {
   "cell_type": "code",
   "execution_count": 8,
   "metadata": {},
   "outputs": [],
   "source": [
    "y = np.array(df['label'].tolist())"
   ]
  },
  {
   "cell_type": "code",
   "execution_count": 9,
   "metadata": {},
   "outputs": [],
   "source": [
    "X_train, X_test, Y_train, Y_test = train_test_split(X,y, test_size=0.25, random_state=1)"
   ]
  },
  {
   "cell_type": "code",
   "execution_count": 10,
   "metadata": {},
   "outputs": [
    {
     "data": {
      "text/html": [
       "<style>#sk-container-id-1 {color: black;background-color: white;}#sk-container-id-1 pre{padding: 0;}#sk-container-id-1 div.sk-toggleable {background-color: white;}#sk-container-id-1 label.sk-toggleable__label {cursor: pointer;display: block;width: 100%;margin-bottom: 0;padding: 0.3em;box-sizing: border-box;text-align: center;}#sk-container-id-1 label.sk-toggleable__label-arrow:before {content: \"▸\";float: left;margin-right: 0.25em;color: #696969;}#sk-container-id-1 label.sk-toggleable__label-arrow:hover:before {color: black;}#sk-container-id-1 div.sk-estimator:hover label.sk-toggleable__label-arrow:before {color: black;}#sk-container-id-1 div.sk-toggleable__content {max-height: 0;max-width: 0;overflow: hidden;text-align: left;background-color: #f0f8ff;}#sk-container-id-1 div.sk-toggleable__content pre {margin: 0.2em;color: black;border-radius: 0.25em;background-color: #f0f8ff;}#sk-container-id-1 input.sk-toggleable__control:checked~div.sk-toggleable__content {max-height: 200px;max-width: 100%;overflow: auto;}#sk-container-id-1 input.sk-toggleable__control:checked~label.sk-toggleable__label-arrow:before {content: \"▾\";}#sk-container-id-1 div.sk-estimator input.sk-toggleable__control:checked~label.sk-toggleable__label {background-color: #d4ebff;}#sk-container-id-1 div.sk-label input.sk-toggleable__control:checked~label.sk-toggleable__label {background-color: #d4ebff;}#sk-container-id-1 input.sk-hidden--visually {border: 0;clip: rect(1px 1px 1px 1px);clip: rect(1px, 1px, 1px, 1px);height: 1px;margin: -1px;overflow: hidden;padding: 0;position: absolute;width: 1px;}#sk-container-id-1 div.sk-estimator {font-family: monospace;background-color: #f0f8ff;border: 1px dotted black;border-radius: 0.25em;box-sizing: border-box;margin-bottom: 0.5em;}#sk-container-id-1 div.sk-estimator:hover {background-color: #d4ebff;}#sk-container-id-1 div.sk-parallel-item::after {content: \"\";width: 100%;border-bottom: 1px solid gray;flex-grow: 1;}#sk-container-id-1 div.sk-label:hover label.sk-toggleable__label {background-color: #d4ebff;}#sk-container-id-1 div.sk-serial::before {content: \"\";position: absolute;border-left: 1px solid gray;box-sizing: border-box;top: 0;bottom: 0;left: 50%;z-index: 0;}#sk-container-id-1 div.sk-serial {display: flex;flex-direction: column;align-items: center;background-color: white;padding-right: 0.2em;padding-left: 0.2em;position: relative;}#sk-container-id-1 div.sk-item {position: relative;z-index: 1;}#sk-container-id-1 div.sk-parallel {display: flex;align-items: stretch;justify-content: center;background-color: white;position: relative;}#sk-container-id-1 div.sk-item::before, #sk-container-id-1 div.sk-parallel-item::before {content: \"\";position: absolute;border-left: 1px solid gray;box-sizing: border-box;top: 0;bottom: 0;left: 50%;z-index: -1;}#sk-container-id-1 div.sk-parallel-item {display: flex;flex-direction: column;z-index: 1;position: relative;background-color: white;}#sk-container-id-1 div.sk-parallel-item:first-child::after {align-self: flex-end;width: 50%;}#sk-container-id-1 div.sk-parallel-item:last-child::after {align-self: flex-start;width: 50%;}#sk-container-id-1 div.sk-parallel-item:only-child::after {width: 0;}#sk-container-id-1 div.sk-dashed-wrapped {border: 1px dashed gray;margin: 0 0.4em 0.5em 0.4em;box-sizing: border-box;padding-bottom: 0.4em;background-color: white;}#sk-container-id-1 div.sk-label label {font-family: monospace;font-weight: bold;display: inline-block;line-height: 1.2em;}#sk-container-id-1 div.sk-label-container {text-align: center;}#sk-container-id-1 div.sk-container {/* jupyter's `normalize.less` sets `[hidden] { display: none; }` but bootstrap.min.css set `[hidden] { display: none !important; }` so we also need the `!important` here to be able to override the default hidden behavior on the sphinx rendered scikit-learn.org. See: https://github.com/scikit-learn/scikit-learn/issues/21755 */display: inline-block !important;position: relative;}#sk-container-id-1 div.sk-text-repr-fallback {display: none;}</style><div id=\"sk-container-id-1\" class=\"sk-top-container\"><div class=\"sk-text-repr-fallback\"><pre>SVC(kernel=&#x27;linear&#x27;)</pre><b>In a Jupyter environment, please rerun this cell to show the HTML representation or trust the notebook. <br />On GitHub, the HTML representation is unable to render, please try loading this page with nbviewer.org.</b></div><div class=\"sk-container\" hidden><div class=\"sk-item\"><div class=\"sk-estimator sk-toggleable\"><input class=\"sk-toggleable__control sk-hidden--visually\" id=\"sk-estimator-id-1\" type=\"checkbox\" checked><label for=\"sk-estimator-id-1\" class=\"sk-toggleable__label sk-toggleable__label-arrow\">SVC</label><div class=\"sk-toggleable__content\"><pre>SVC(kernel=&#x27;linear&#x27;)</pre></div></div></div></div></div>"
      ],
      "text/plain": [
       "SVC(kernel='linear')"
      ]
     },
     "execution_count": 10,
     "metadata": {},
     "output_type": "execute_result"
    }
   ],
   "source": [
    "SVM = svm.SVC(kernel='linear')\n",
    "SVM.fit(X_train,Y_train)"
   ]
  },
  {
   "cell_type": "code",
   "execution_count": 11,
   "metadata": {},
   "outputs": [
    {
     "name": "stdout",
     "output_type": "stream",
     "text": [
      "SVM Accuracy Score ->  87.86\n"
     ]
    }
   ],
   "source": [
    "# predict the labels on validation dataset\n",
    "predictions_SVM = SVM.predict(X_test)\n",
    "# Use accuracy_score function to get the accuracy\n",
    "print(\"SVM Accuracy Score -> \",accuracy_score(predictions_SVM, Y_test)*100)"
   ]
  },
  {
   "cell_type": "code",
   "execution_count": 12,
   "metadata": {},
   "outputs": [
    {
     "data": {
      "text/plain": [
       "<Axes: xlabel='label'>"
      ]
     },
     "execution_count": 12,
     "metadata": {},
     "output_type": "execute_result"
    },
    {
     "data": {
      "image/png": "[encoded data removed]",
      "text/plain": [
       "<Figure size 640x480 with 1 Axes>"
      ]
     },
     "metadata": {},
     "output_type": "display_data"
    }
   ],
   "source": [
    "df['label'].value_counts().plot(kind='bar')"
   ]
  },
  {
   "cell_type": "code",
   "execution_count": 13,
   "metadata": {},
   "outputs": [],
   "source": [
    "from wordcloud import WordCloud"
   ]
  },
  {
   "cell_type": "code",
   "execution_count": 14,
   "metadata": {},
   "outputs": [
    {
     "data": {
      "text/plain": [
       "<matplotlib.image.AxesImage at 0x1f03d3e3fd0>"
      ]
     },
     "execution_count": 14,
     "metadata": {},
     "output_type": "execute_result"
    },
    {
     "data": {
      "image/png": "[encoded data removed]",
      "text/plain": [
       "<Figure size 1500x800 with 1 Axes>"
      ]
     },
     "metadata": {},
     "output_type": "display_data"
    }
   ],
   "source": [
    "wc = WordCloud(min_font_size=8)\n",
    "spam_wc = wc.generate(df['text'].str.cat(sep=\" \"))\n",
    "plt.figure(figsize=(15, 8))\n",
    "plt.imshow(spam_wc)"
   ]
  },
  {
   "cell_type": "code",
   "execution_count": 9,
   "metadata": {},
   "outputs": [],
   "source": [
    "train = pd.read_csv(\"training.csv\")\n",
    "test = pd.read_csv(\"test.csv\")\n",
    "val = pd.read_csv(\"validation.csv\")"
   ]
  },
  {
   "cell_type": "code",
   "execution_count": 11,
   "metadata": {},
   "outputs": [],
   "source": [
    "import nltk\n",
    "from nltk.tokenize import word_tokenize\n",
    "from nltk.corpus import stopwords\n",
    "from nltk.stem import WordNetLemmatizer"
   ]
  },
  {
   "cell_type": "code",
   "execution_count": 12,
   "metadata": {},
   "outputs": [],
   "source": [
    "def tokenization(inputs):\n",
    "    return word_tokenize(inputs) #REFERENCE[1]\n",
    "\n",
    "\n",
    "train['text_tokenized'] = train['text'].apply(tokenization)\n",
    "val['text_tokenized'] = val['text'].apply(tokenization)"
   ]
  },
  {
   "cell_type": "code",
   "execution_count": 13,
   "metadata": {},
   "outputs": [
    {
     "data": {
      "text/html": [
       "<div>\n",
       "<style scoped>\n",
       "    .dataframe tbody tr th:only-of-type {\n",
       "        vertical-align: middle;\n",
       "    }\n",
       "\n",
       "    .dataframe tbody tr th {\n",
       "        vertical-align: top;\n",
       "    }\n",
       "\n",
       "    .dataframe thead th {\n",
       "        text-align: right;\n",
       "    }\n",
       "</style>\n",
       "<table border=\"1\" class=\"dataframe\">\n",
       "  <thead>\n",
       "    <tr style=\"text-align: right;\">\n",
       "      <th></th>\n",
       "      <th>text</th>\n",
       "      <th>label</th>\n",
       "      <th>text_tokenized</th>\n",
       "    </tr>\n",
       "  </thead>\n",
       "  <tbody>\n",
       "    <tr>\n",
       "      <th>0</th>\n",
       "      <td>i didnt feel humiliated</td>\n",
       "      <td>0</td>\n",
       "      <td>[i, didnt, feel, humiliated]</td>\n",
       "    </tr>\n",
       "    <tr>\n",
       "      <th>1</th>\n",
       "      <td>i can go from feeling so hopeless to so damned...</td>\n",
       "      <td>0</td>\n",
       "      <td>[i, can, go, from, feeling, so, hopeless, to, ...</td>\n",
       "    </tr>\n",
       "    <tr>\n",
       "      <th>2</th>\n",
       "      <td>im grabbing a minute to post i feel greedy wrong</td>\n",
       "      <td>3</td>\n",
       "      <td>[im, grabbing, a, minute, to, post, i, feel, g...</td>\n",
       "    </tr>\n",
       "    <tr>\n",
       "      <th>3</th>\n",
       "      <td>i am ever feeling nostalgic about the fireplac...</td>\n",
       "      <td>2</td>\n",
       "      <td>[i, am, ever, feeling, nostalgic, about, the, ...</td>\n",
       "    </tr>\n",
       "    <tr>\n",
       "      <th>4</th>\n",
       "      <td>i am feeling grouchy</td>\n",
       "      <td>3</td>\n",
       "      <td>[i, am, feeling, grouchy]</td>\n",
       "    </tr>\n",
       "  </tbody>\n",
       "</table>\n",
       "</div>"
      ],
      "text/plain": [
       "                                                text  label  \\\n",
       "0                            i didnt feel humiliated      0   \n",
       "1  i can go from feeling so hopeless to so damned...      0   \n",
       "2   im grabbing a minute to post i feel greedy wrong      3   \n",
       "3  i am ever feeling nostalgic about the fireplac...      2   \n",
       "4                               i am feeling grouchy      3   \n",
       "\n",
       "                                      text_tokenized  \n",
       "0                       [i, didnt, feel, humiliated]  \n",
       "1  [i, can, go, from, feeling, so, hopeless, to, ...  \n",
       "2  [im, grabbing, a, minute, to, post, i, feel, g...  \n",
       "3  [i, am, ever, feeling, nostalgic, about, the, ...  \n",
       "4                          [i, am, feeling, grouchy]  "
      ]
     },
     "execution_count": 13,
     "metadata": {},
     "output_type": "execute_result"
    }
   ],
   "source": [
    "train.head()"
   ]
  },
  {
   "cell_type": "code",
   "execution_count": 14,
   "metadata": {},
   "outputs": [
    {
     "data": {
      "text/html": [
       "<div>\n",
       "<style scoped>\n",
       "    .dataframe tbody tr th:only-of-type {\n",
       "        vertical-align: middle;\n",
       "    }\n",
       "\n",
       "    .dataframe tbody tr th {\n",
       "        vertical-align: top;\n",
       "    }\n",
       "\n",
       "    .dataframe thead th {\n",
       "        text-align: right;\n",
       "    }\n",
       "</style>\n",
       "<table border=\"1\" class=\"dataframe\">\n",
       "  <thead>\n",
       "    <tr style=\"text-align: right;\">\n",
       "      <th></th>\n",
       "      <th>text</th>\n",
       "      <th>label</th>\n",
       "      <th>text_tokenized</th>\n",
       "      <th>text_stop</th>\n",
       "    </tr>\n",
       "  </thead>\n",
       "  <tbody>\n",
       "    <tr>\n",
       "      <th>0</th>\n",
       "      <td>i didnt feel humiliated</td>\n",
       "      <td>0</td>\n",
       "      <td>[i, didnt, feel, humiliated]</td>\n",
       "      <td>[didnt, feel, humiliated]</td>\n",
       "    </tr>\n",
       "    <tr>\n",
       "      <th>1</th>\n",
       "      <td>i can go from feeling so hopeless to so damned...</td>\n",
       "      <td>0</td>\n",
       "      <td>[i, can, go, from, feeling, so, hopeless, to, ...</td>\n",
       "      <td>[go, feeling, hopeless, damned, hopeful, aroun...</td>\n",
       "    </tr>\n",
       "    <tr>\n",
       "      <th>2</th>\n",
       "      <td>im grabbing a minute to post i feel greedy wrong</td>\n",
       "      <td>3</td>\n",
       "      <td>[im, grabbing, a, minute, to, post, i, feel, g...</td>\n",
       "      <td>[im, grabbing, minute, post, feel, greedy, wrong]</td>\n",
       "    </tr>\n",
       "    <tr>\n",
       "      <th>3</th>\n",
       "      <td>i am ever feeling nostalgic about the fireplac...</td>\n",
       "      <td>2</td>\n",
       "      <td>[i, am, ever, feeling, nostalgic, about, the, ...</td>\n",
       "      <td>[ever, feeling, nostalgic, fireplace, know, st...</td>\n",
       "    </tr>\n",
       "    <tr>\n",
       "      <th>4</th>\n",
       "      <td>i am feeling grouchy</td>\n",
       "      <td>3</td>\n",
       "      <td>[i, am, feeling, grouchy]</td>\n",
       "      <td>[feeling, grouchy]</td>\n",
       "    </tr>\n",
       "  </tbody>\n",
       "</table>\n",
       "</div>"
      ],
      "text/plain": [
       "                                                text  label  \\\n",
       "0                            i didnt feel humiliated      0   \n",
       "1  i can go from feeling so hopeless to so damned...      0   \n",
       "2   im grabbing a minute to post i feel greedy wrong      3   \n",
       "3  i am ever feeling nostalgic about the fireplac...      2   \n",
       "4                               i am feeling grouchy      3   \n",
       "\n",
       "                                      text_tokenized  \\\n",
       "0                       [i, didnt, feel, humiliated]   \n",
       "1  [i, can, go, from, feeling, so, hopeless, to, ...   \n",
       "2  [im, grabbing, a, minute, to, post, i, feel, g...   \n",
       "3  [i, am, ever, feeling, nostalgic, about, the, ...   \n",
       "4                          [i, am, feeling, grouchy]   \n",
       "\n",
       "                                           text_stop  \n",
       "0                          [didnt, feel, humiliated]  \n",
       "1  [go, feeling, hopeless, damned, hopeful, aroun...  \n",
       "2  [im, grabbing, minute, post, feel, greedy, wrong]  \n",
       "3  [ever, feeling, nostalgic, fireplace, know, st...  \n",
       "4                                 [feeling, grouchy]  "
      ]
     },
     "execution_count": 14,
     "metadata": {},
     "output_type": "execute_result"
    }
   ],
   "source": [
    "stop_words = set(stopwords.words('english'))\n",
    "\n",
    "def stopwords_remove(inputs):\n",
    "    return [item for item in inputs if item not in stop_words]\n",
    "\n",
    "train['text_stop'] = train['text_tokenized'].apply(stopwords_remove)\n",
    "val['text_stop'] = val['text_tokenized'].apply(stopwords_remove)\n",
    "\n",
    "train.head()"
   ]
  },
  {
   "cell_type": "code",
   "execution_count": 15,
   "metadata": {},
   "outputs": [
    {
     "data": {
      "text/html": [
       "<div>\n",
       "<style scoped>\n",
       "    .dataframe tbody tr th:only-of-type {\n",
       "        vertical-align: middle;\n",
       "    }\n",
       "\n",
       "    .dataframe tbody tr th {\n",
       "        vertical-align: top;\n",
       "    }\n",
       "\n",
       "    .dataframe thead th {\n",
       "        text-align: right;\n",
       "    }\n",
       "</style>\n",
       "<table border=\"1\" class=\"dataframe\">\n",
       "  <thead>\n",
       "    <tr style=\"text-align: right;\">\n",
       "      <th></th>\n",
       "      <th>text</th>\n",
       "      <th>label</th>\n",
       "      <th>text_tokenized</th>\n",
       "      <th>text_stop</th>\n",
       "      <th>text_lemmatized</th>\n",
       "    </tr>\n",
       "  </thead>\n",
       "  <tbody>\n",
       "    <tr>\n",
       "      <th>0</th>\n",
       "      <td>i didnt feel humiliated</td>\n",
       "      <td>0</td>\n",
       "      <td>[i, didnt, feel, humiliated]</td>\n",
       "      <td>[didnt, feel, humiliated]</td>\n",
       "      <td>[didnt, feel, humiliate]</td>\n",
       "    </tr>\n",
       "    <tr>\n",
       "      <th>1</th>\n",
       "      <td>i can go from feeling so hopeless to so damned...</td>\n",
       "      <td>0</td>\n",
       "      <td>[i, can, go, from, feeling, so, hopeless, to, ...</td>\n",
       "      <td>[go, feeling, hopeless, damned, hopeful, aroun...</td>\n",
       "      <td>[go, feel, hopeless, damn, hopeful, around, so...</td>\n",
       "    </tr>\n",
       "    <tr>\n",
       "      <th>2</th>\n",
       "      <td>im grabbing a minute to post i feel greedy wrong</td>\n",
       "      <td>3</td>\n",
       "      <td>[im, grabbing, a, minute, to, post, i, feel, g...</td>\n",
       "      <td>[im, grabbing, minute, post, feel, greedy, wrong]</td>\n",
       "      <td>[im, grab, minute, post, feel, greedy, wrong]</td>\n",
       "    </tr>\n",
       "    <tr>\n",
       "      <th>3</th>\n",
       "      <td>i am ever feeling nostalgic about the fireplac...</td>\n",
       "      <td>2</td>\n",
       "      <td>[i, am, ever, feeling, nostalgic, about, the, ...</td>\n",
       "      <td>[ever, feeling, nostalgic, fireplace, know, st...</td>\n",
       "      <td>[ever, feel, nostalgic, fireplace, know, still...</td>\n",
       "    </tr>\n",
       "    <tr>\n",
       "      <th>4</th>\n",
       "      <td>i am feeling grouchy</td>\n",
       "      <td>3</td>\n",
       "      <td>[i, am, feeling, grouchy]</td>\n",
       "      <td>[feeling, grouchy]</td>\n",
       "      <td>[feel, grouchy]</td>\n",
       "    </tr>\n",
       "  </tbody>\n",
       "</table>\n",
       "</div>"
      ],
      "text/plain": [
       "                                                text  label  \\\n",
       "0                            i didnt feel humiliated      0   \n",
       "1  i can go from feeling so hopeless to so damned...      0   \n",
       "2   im grabbing a minute to post i feel greedy wrong      3   \n",
       "3  i am ever feeling nostalgic about the fireplac...      2   \n",
       "4                               i am feeling grouchy      3   \n",
       "\n",
       "                                      text_tokenized  \\\n",
       "0                       [i, didnt, feel, humiliated]   \n",
       "1  [i, can, go, from, feeling, so, hopeless, to, ...   \n",
       "2  [im, grabbing, a, minute, to, post, i, feel, g...   \n",
       "3  [i, am, ever, feeling, nostalgic, about, the, ...   \n",
       "4                          [i, am, feeling, grouchy]   \n",
       "\n",
       "                                           text_stop  \\\n",
       "0                          [didnt, feel, humiliated]   \n",
       "1  [go, feeling, hopeless, damned, hopeful, aroun...   \n",
       "2  [im, grabbing, minute, post, feel, greedy, wrong]   \n",
       "3  [ever, feeling, nostalgic, fireplace, know, st...   \n",
       "4                                 [feeling, grouchy]   \n",
       "\n",
       "                                     text_lemmatized  \n",
       "0                           [didnt, feel, humiliate]  \n",
       "1  [go, feel, hopeless, damn, hopeful, around, so...  \n",
       "2      [im, grab, minute, post, feel, greedy, wrong]  \n",
       "3  [ever, feel, nostalgic, fireplace, know, still...  \n",
       "4                                    [feel, grouchy]  "
      ]
     },
     "execution_count": 15,
     "metadata": {},
     "output_type": "execute_result"
    }
   ],
   "source": [
    "lemmatizer = WordNetLemmatizer()\n",
    "\n",
    "def lemmatization(inputs):\n",
    "    return [lemmatizer.lemmatize(word=x, pos='v') for x in inputs]\n",
    "\n",
    "train['text_lemmatized'] = train['text_stop'].apply(lemmatization)\n",
    "val['text_lemmatized'] = val['text_stop'].apply(lemmatization)\n",
    "\n",
    "train.head()"
   ]
  },
  {
   "cell_type": "code",
   "execution_count": 16,
   "metadata": {},
   "outputs": [
    {
     "data": {
      "text/html": [
       "<div>\n",
       "<style scoped>\n",
       "    .dataframe tbody tr th:only-of-type {\n",
       "        vertical-align: middle;\n",
       "    }\n",
       "\n",
       "    .dataframe tbody tr th {\n",
       "        vertical-align: top;\n",
       "    }\n",
       "\n",
       "    .dataframe thead th {\n",
       "        text-align: right;\n",
       "    }\n",
       "</style>\n",
       "<table border=\"1\" class=\"dataframe\">\n",
       "  <thead>\n",
       "    <tr style=\"text-align: right;\">\n",
       "      <th></th>\n",
       "      <th>text</th>\n",
       "      <th>label</th>\n",
       "      <th>text_tokenized</th>\n",
       "      <th>text_stop</th>\n",
       "      <th>text_lemmatized</th>\n",
       "      <th>text_cleaned</th>\n",
       "    </tr>\n",
       "  </thead>\n",
       "  <tbody>\n",
       "    <tr>\n",
       "      <th>0</th>\n",
       "      <td>i didnt feel humiliated</td>\n",
       "      <td>0</td>\n",
       "      <td>[i, didnt, feel, humiliated]</td>\n",
       "      <td>[didnt, feel, humiliated]</td>\n",
       "      <td>[didnt, feel, humiliate]</td>\n",
       "      <td>didnt feel humiliate</td>\n",
       "    </tr>\n",
       "    <tr>\n",
       "      <th>1</th>\n",
       "      <td>i can go from feeling so hopeless to so damned...</td>\n",
       "      <td>0</td>\n",
       "      <td>[i, can, go, from, feeling, so, hopeless, to, ...</td>\n",
       "      <td>[go, feeling, hopeless, damned, hopeful, aroun...</td>\n",
       "      <td>[go, feel, hopeless, damn, hopeful, around, so...</td>\n",
       "      <td>go feel hopeless damn hopeful around someone c...</td>\n",
       "    </tr>\n",
       "    <tr>\n",
       "      <th>2</th>\n",
       "      <td>im grabbing a minute to post i feel greedy wrong</td>\n",
       "      <td>3</td>\n",
       "      <td>[im, grabbing, a, minute, to, post, i, feel, g...</td>\n",
       "      <td>[im, grabbing, minute, post, feel, greedy, wrong]</td>\n",
       "      <td>[im, grab, minute, post, feel, greedy, wrong]</td>\n",
       "      <td>im grab minute post feel greedy wrong</td>\n",
       "    </tr>\n",
       "    <tr>\n",
       "      <th>3</th>\n",
       "      <td>i am ever feeling nostalgic about the fireplac...</td>\n",
       "      <td>2</td>\n",
       "      <td>[i, am, ever, feeling, nostalgic, about, the, ...</td>\n",
       "      <td>[ever, feeling, nostalgic, fireplace, know, st...</td>\n",
       "      <td>[ever, feel, nostalgic, fireplace, know, still...</td>\n",
       "      <td>ever feel nostalgic fireplace know still property</td>\n",
       "    </tr>\n",
       "    <tr>\n",
       "      <th>4</th>\n",
       "      <td>i am feeling grouchy</td>\n",
       "      <td>3</td>\n",
       "      <td>[i, am, feeling, grouchy]</td>\n",
       "      <td>[feeling, grouchy]</td>\n",
       "      <td>[feel, grouchy]</td>\n",
       "      <td>feel grouchy</td>\n",
       "    </tr>\n",
       "  </tbody>\n",
       "</table>\n",
       "</div>"
      ],
      "text/plain": [
       "                                                text  label  \\\n",
       "0                            i didnt feel humiliated      0   \n",
       "1  i can go from feeling so hopeless to so damned...      0   \n",
       "2   im grabbing a minute to post i feel greedy wrong      3   \n",
       "3  i am ever feeling nostalgic about the fireplac...      2   \n",
       "4                               i am feeling grouchy      3   \n",
       "\n",
       "                                      text_tokenized  \\\n",
       "0                       [i, didnt, feel, humiliated]   \n",
       "1  [i, can, go, from, feeling, so, hopeless, to, ...   \n",
       "2  [im, grabbing, a, minute, to, post, i, feel, g...   \n",
       "3  [i, am, ever, feeling, nostalgic, about, the, ...   \n",
       "4                          [i, am, feeling, grouchy]   \n",
       "\n",
       "                                           text_stop  \\\n",
       "0                          [didnt, feel, humiliated]   \n",
       "1  [go, feeling, hopeless, damned, hopeful, aroun...   \n",
       "2  [im, grabbing, minute, post, feel, greedy, wrong]   \n",
       "3  [ever, feeling, nostalgic, fireplace, know, st...   \n",
       "4                                 [feeling, grouchy]   \n",
       "\n",
       "                                     text_lemmatized  \\\n",
       "0                           [didnt, feel, humiliate]   \n",
       "1  [go, feel, hopeless, damn, hopeful, around, so...   \n",
       "2      [im, grab, minute, post, feel, greedy, wrong]   \n",
       "3  [ever, feel, nostalgic, fireplace, know, still...   \n",
       "4                                    [feel, grouchy]   \n",
       "\n",
       "                                        text_cleaned  \n",
       "0                               didnt feel humiliate  \n",
       "1  go feel hopeless damn hopeful around someone c...  \n",
       "2              im grab minute post feel greedy wrong  \n",
       "3  ever feel nostalgic fireplace know still property  \n",
       "4                                       feel grouchy  "
      ]
     },
     "execution_count": 16,
     "metadata": {},
     "output_type": "execute_result"
    }
   ],
   "source": [
    "train['text_cleaned'] = train['text_lemmatized'].str.join(' ')\n",
    "val['text_cleaned'] = val['text_lemmatized'].str.join(' ')\n",
    "\n",
    "train.head()"
   ]
  },
  {
   "cell_type": "code",
   "execution_count": 17,
   "metadata": {},
   "outputs": [],
   "source": [
    "from tensorflow.keras.preprocessing.text import Tokenizer"
   ]
  },
  {
   "cell_type": "code",
   "execution_count": 18,
   "metadata": {},
   "outputs": [],
   "source": [
    "num_words = 10000\n",
    "tokenizer = Tokenizer(num_words=num_words, oov_token='<OOV>')\n",
    "tokenizer.fit_on_texts(train['text_cleaned'])\n",
    "\n",
    "word_index = tokenizer.word_index"
   ]
  },
  {
   "cell_type": "code",
   "execution_count": 19,
   "metadata": {},
   "outputs": [],
   "source": [
    "Tokenized_train = tokenizer.texts_to_sequences(train['text_cleaned'])\n",
    "Tokenized_val = tokenizer.texts_to_sequences(val['text_cleaned'])"
   ]
  },
  {
   "cell_type": "code",
   "execution_count": 20,
   "metadata": {},
   "outputs": [],
   "source": [
    "maxlen = 40\n",
    "Padded_train = pad_sequences(Tokenized_train, maxlen=maxlen, padding='pre')\n",
    "Padded_val = pad_sequences(Tokenized_val, maxlen=maxlen, padding='pre')"
   ]
  },
  {
   "cell_type": "code",
   "execution_count": 21,
   "metadata": {},
   "outputs": [
    {
     "data": {
      "text/plain": [
       "(40,)"
      ]
     },
     "execution_count": 21,
     "metadata": {},
     "output_type": "execute_result"
    }
   ],
   "source": [
    "Padded_train[0].shape"
   ]
  },
  {
   "cell_type": "code",
   "execution_count": 27,
   "metadata": {},
   "outputs": [
    {
     "name": "stdout",
     "output_type": "stream",
     "text": [
      "Model: \"sequential\"\n",
      "_________________________________________________________________\n",
      " Layer (type)                Output Shape              Param #   \n",
      "=================================================================\n",
      " embedding (Embedding)       (None, 40, 16)            160000    \n",
      "                                                                 \n",
      " lstm (LSTM)                 (None, 40, 50)            13400     \n",
      "                                                                 \n",
      " dropout (Dropout)           (None, 40, 50)            0         \n",
      "                                                                 \n",
      " lstm_1 (LSTM)               (None, 40, 40)            14560     \n",
      "                                                                 \n",
      " dropout_1 (Dropout)         (None, 40, 40)            0         \n",
      "                                                                 \n",
      " lstm_2 (LSTM)               (None, 40)                12960     \n",
      "                                                                 \n",
      " dropout_2 (Dropout)         (None, 40)                0         \n",
      "                                                                 \n",
      " dense (Dense)               (None, 6)                 246       \n",
      "                                                                 \n",
      "=================================================================\n",
      "Total params: 201,166\n",
      "Trainable params: 201,166\n",
      "Non-trainable params: 0\n",
      "_________________________________________________________________\n"
     ]
    }
   ],
   "source": [
    "model = Sequential()\n",
    "\n",
    "model.add(Embedding(num_words, 16, input_length=maxlen))\n",
    "# model.add(GlobalAvgPool1D())\n",
    "\n",
    "model.add(tf.keras.layers.LSTM(50, return_sequences=True, activation='relu'))\n",
    "model.add(Dropout(0.3))\n",
    "\n",
    "model.add(tf.keras.layers.LSTM(40, activation='relu', return_sequences=True))\n",
    "model.add(Dropout(0.3))\n",
    "\n",
    "model.add(tf.keras.layers.LSTM(40, activation='relu'))\n",
    "model.add(Dropout(0.3))\n",
    "\n",
    "model.add(Dense(6, activation='softmax'))\n",
    "\n",
    "model.compile(loss='sparse_categorical_crossentropy', optimizer='adam', metrics=['accuracy'])\n",
    "\n",
    "model.summary()"
   ]
  },
  {
   "cell_type": "code",
   "execution_count": 28,
   "metadata": {},
   "outputs": [
    {
     "name": "stdout",
     "output_type": "stream",
     "text": [
      "Epoch 1/20\n",
      "500/500 [==============================] - 15s 23ms/step - loss: 1.7156 - accuracy: 0.3334 - val_loss: 1.3069 - val_accuracy: 0.4105\n",
      "Epoch 2/20\n",
      "500/500 [==============================] - 11s 21ms/step - loss: 1.1494 - accuracy: 0.4987 - val_loss: 1.0295 - val_accuracy: 0.6245\n",
      "Epoch 3/20\n",
      "500/500 [==============================] - 11s 21ms/step - loss: 0.9267 - accuracy: 0.6358 - val_loss: 0.9685 - val_accuracy: 0.6575\n",
      "Epoch 4/20\n",
      "500/500 [==============================] - 11s 21ms/step - loss: 0.7925 - accuracy: 0.6806 - val_loss: 0.8312 - val_accuracy: 0.6745\n",
      "Epoch 5/20\n",
      "500/500 [==============================] - 11s 21ms/step - loss: 0.7218 - accuracy: 0.7022 - val_loss: 0.7851 - val_accuracy: 0.7195\n",
      "Epoch 6/20\n",
      "500/500 [==============================] - 11s 22ms/step - loss: 0.6439 - accuracy: 0.7346 - val_loss: 0.7073 - val_accuracy: 0.7165\n",
      "Epoch 7/20\n",
      "500/500 [==============================] - 11s 22ms/step - loss: 0.5708 - accuracy: 0.7630 - val_loss: 0.9941 - val_accuracy: 0.7430\n",
      "Epoch 8/20\n",
      "500/500 [==============================] - 11s 22ms/step - loss: 0.5402 - accuracy: 0.7729 - val_loss: 0.6318 - val_accuracy: 0.7565\n",
      "Epoch 9/20\n",
      "500/500 [==============================] - 11s 22ms/step - loss: 0.4720 - accuracy: 0.7963 - val_loss: 0.6228 - val_accuracy: 0.7695\n",
      "Epoch 10/20\n",
      "500/500 [==============================] - 11s 22ms/step - loss: 0.4196 - accuracy: 0.8164 - val_loss: 0.6632 - val_accuracy: 0.7700\n",
      "Epoch 11/20\n",
      "500/500 [==============================] - 11s 22ms/step - loss: 0.3873 - accuracy: 0.8372 - val_loss: 0.6233 - val_accuracy: 0.7960\n",
      "Epoch 12/20\n",
      "500/500 [==============================] - 11s 22ms/step - loss: 0.3423 - accuracy: 0.8621 - val_loss: 0.6124 - val_accuracy: 0.8145\n",
      "Epoch 13/20\n",
      "500/500 [==============================] - 11s 22ms/step - loss: 0.3055 - accuracy: 0.8852 - val_loss: 0.5409 - val_accuracy: 0.8415\n",
      "Epoch 14/20\n",
      "500/500 [==============================] - 11s 22ms/step - loss: 0.2497 - accuracy: 0.9136 - val_loss: 0.5174 - val_accuracy: 0.8500\n",
      "Epoch 15/20\n",
      "500/500 [==============================] - 11s 22ms/step - loss: 1.0223 - accuracy: 0.9135 - val_loss: 0.4956 - val_accuracy: 0.8450\n",
      "Epoch 16/20\n",
      "500/500 [==============================] - 11s 21ms/step - loss: 0.2123 - accuracy: 0.9302 - val_loss: 0.5096 - val_accuracy: 0.8640\n",
      "Epoch 17/20\n",
      "500/500 [==============================] - 11s 22ms/step - loss: 0.1880 - accuracy: 0.9367 - val_loss: 0.4932 - val_accuracy: 0.8660\n",
      "Epoch 18/20\n",
      "500/500 [==============================] - 11s 22ms/step - loss: 0.1599 - accuracy: 0.9435 - val_loss: 0.5716 - val_accuracy: 0.8700\n",
      "Epoch 19/20\n",
      "500/500 [==============================] - 11s 22ms/step - loss: 0.1496 - accuracy: 0.9500 - val_loss: 0.5600 - val_accuracy: 0.8665\n",
      "Epoch 20/20\n",
      "500/500 [==============================] - 11s 22ms/step - loss: 0.1419 - accuracy: 0.9539 - val_loss: 0.5347 - val_accuracy: 0.8580\n"
     ]
    }
   ],
   "source": [
    "epochs = 20\n",
    "hist = model.fit(Padded_train, train['label'], epochs=epochs,\n",
    "                 validation_data=(Padded_val, val['label']), \n",
    "                 )\n"
   ]
  },
  {
   "cell_type": "code",
   "execution_count": 29,
   "metadata": {},
   "outputs": [
    {
     "name": "stdout",
     "output_type": "stream",
     "text": [
      "63/63 [==============================] - 1s 8ms/step - loss: 0.5811 - accuracy: 0.8740\n"
     ]
    }
   ],
   "source": [
    "test['text_tokenized'] = test['text'].apply(tokenization)\n",
    "test['text_stop'] = test['text_tokenized'].apply(stopwords_remove)\n",
    "test['text_lemmatized'] = test['text_stop'].apply(lemmatization)\n",
    "test['text_cleaned'] = test['text_lemmatized'].str.join(' ')\n",
    "\n",
    "Tokenized_test = tokenizer.texts_to_sequences(test['text_cleaned'])\n",
    "Padded_test = pad_sequences(Tokenized_test, maxlen=maxlen, padding='pre')\n",
    "\n",
    "test_evaluate = model.evaluate(Padded_test, test['label'])"
   ]
  },
  {
   "cell_type": "code",
   "execution_count": 30,
   "metadata": {},
   "outputs": [
    {
     "name": "stdout",
     "output_type": "stream",
     "text": [
      "Model: \"sequential_1\"\n",
      "_________________________________________________________________\n",
      " Layer (type)                Output Shape              Param #   \n",
      "=================================================================\n",
      " embedding_1 (Embedding)     (None, 40, 16)            160000    \n",
      "                                                                 \n",
      " conv1d (Conv1D)             (None, 40, 128)           2176      \n",
      "                                                                 \n",
      " dropout_3 (Dropout)         (None, 40, 128)           0         \n",
      "                                                                 \n",
      " lstm_3 (LSTM)               (None, 40, 50)            35800     \n",
      "                                                                 \n",
      " dropout_4 (Dropout)         (None, 40, 50)            0         \n",
      "                                                                 \n",
      " lstm_4 (LSTM)               (None, 40, 40)            14560     \n",
      "                                                                 \n",
      " dropout_5 (Dropout)         (None, 40, 40)            0         \n",
      "                                                                 \n",
      " lstm_5 (LSTM)               (None, 40)                12960     \n",
      "                                                                 \n",
      " dropout_6 (Dropout)         (None, 40)                0         \n",
      "                                                                 \n",
      " dense_1 (Dense)             (None, 6)                 246       \n",
      "                                                                 \n",
      "=================================================================\n",
      "Total params: 225,742\n",
      "Trainable params: 225,742\n",
      "Non-trainable params: 0\n",
      "_________________________________________________________________\n"
     ]
    }
   ],
   "source": [
    "model = Sequential()\n",
    "\n",
    "model.add(Embedding(num_words, 16, input_length=maxlen))\n",
    "\n",
    "\n",
    "model.add(tf.keras.layers.Conv1D(128, kernel_size=1, activation='relu'))\n",
    "model.add(Dropout(0.3))\n",
    "model.add(tf.keras.layers.LSTM(50, activation='relu', return_sequences=True))\n",
    "model.add(Dropout(0.3))\n",
    "model.add(tf.keras.layers.LSTM(40, activation='relu', return_sequences=True))\n",
    "model.add(Dropout(0.3))\n",
    "model.add(tf.keras.layers.LSTM(40, activation='relu'))\n",
    "model.add(Dropout(0.3))\n",
    "model.add(Dense(6, activation='softmax'))\n",
    "\n",
    "model.compile(loss='sparse_categorical_crossentropy', optimizer='adam', metrics=['accuracy'])\n",
    "\n",
    "model.summary()"
   ]
  },
  {
   "cell_type": "code",
   "execution_count": 31,
   "metadata": {},
   "outputs": [
    {
     "name": "stdout",
     "output_type": "stream",
     "text": [
      "Epoch 1/20\n",
      "500/500 [==============================] - 16s 24ms/step - loss: 1.4767 - accuracy: 0.3738 - val_loss: 1.0101 - val_accuracy: 0.6270\n",
      "Epoch 2/20\n",
      "500/500 [==============================] - 11s 23ms/step - loss: 0.9231 - accuracy: 0.6398 - val_loss: 0.7864 - val_accuracy: 0.6520\n",
      "Epoch 3/20\n",
      "500/500 [==============================] - 11s 23ms/step - loss: 0.7483 - accuracy: 0.6955 - val_loss: 0.7294 - val_accuracy: 0.7065\n",
      "Epoch 4/20\n",
      "500/500 [==============================] - 11s 22ms/step - loss: 0.6291 - accuracy: 0.7364 - val_loss: 0.5849 - val_accuracy: 0.7725\n",
      "Epoch 5/20\n",
      "500/500 [==============================] - 11s 22ms/step - loss: 0.5123 - accuracy: 0.7909 - val_loss: 0.4700 - val_accuracy: 0.8395\n",
      "Epoch 6/20\n",
      "500/500 [==============================] - 11s 22ms/step - loss: 0.4138 - accuracy: 0.8510 - val_loss: 0.4041 - val_accuracy: 0.8660\n",
      "Epoch 7/20\n",
      "500/500 [==============================] - 11s 23ms/step - loss: 0.3550 - accuracy: 0.8773 - val_loss: 0.3961 - val_accuracy: 0.8760\n",
      "Epoch 8/20\n",
      "500/500 [==============================] - 11s 22ms/step - loss: 0.3637 - accuracy: 0.8873 - val_loss: 0.3887 - val_accuracy: 0.8755\n",
      "Epoch 9/20\n",
      "500/500 [==============================] - 11s 23ms/step - loss: 0.9469 - accuracy: 0.8848 - val_loss: 0.4270 - val_accuracy: 0.8580\n",
      "Epoch 10/20\n",
      "500/500 [==============================] - 11s 23ms/step - loss: 0.3454 - accuracy: 0.8826 - val_loss: 0.3467 - val_accuracy: 0.8850\n",
      "Epoch 11/20\n",
      "500/500 [==============================] - 11s 23ms/step - loss: 0.2913 - accuracy: 0.9044 - val_loss: 0.3530 - val_accuracy: 0.8935\n",
      "Epoch 12/20\n",
      "500/500 [==============================] - 12s 23ms/step - loss: 0.2601 - accuracy: 0.9153 - val_loss: 0.3539 - val_accuracy: 0.8935\n",
      "Epoch 13/20\n",
      "500/500 [==============================] - 12s 23ms/step - loss: 0.2524 - accuracy: 0.9170 - val_loss: 0.3408 - val_accuracy: 0.8925\n",
      "Epoch 14/20\n",
      "500/500 [==============================] - 11s 23ms/step - loss: 0.2256 - accuracy: 0.9263 - val_loss: 0.3464 - val_accuracy: 0.8975\n",
      "Epoch 15/20\n",
      "500/500 [==============================] - 11s 23ms/step - loss: 0.2171 - accuracy: 0.9306 - val_loss: 0.3534 - val_accuracy: 0.8930\n",
      "Epoch 16/20\n",
      "500/500 [==============================] - 11s 23ms/step - loss: 0.2073 - accuracy: 0.9324 - val_loss: 0.3636 - val_accuracy: 0.8910\n",
      "Epoch 17/20\n",
      "500/500 [==============================] - 11s 23ms/step - loss: 0.1996 - accuracy: 0.9360 - val_loss: 0.3698 - val_accuracy: 0.8910\n",
      "Epoch 18/20\n",
      "500/500 [==============================] - 11s 23ms/step - loss: 0.1927 - accuracy: 0.9385 - val_loss: 0.3679 - val_accuracy: 0.8925\n",
      "Epoch 19/20\n",
      "500/500 [==============================] - 11s 23ms/step - loss: 0.1829 - accuracy: 0.9433 - val_loss: 0.3770 - val_accuracy: 0.8925\n",
      "Epoch 20/20\n",
      "500/500 [==============================] - 12s 23ms/step - loss: 0.1833 - accuracy: 0.9413 - val_loss: 0.3759 - val_accuracy: 0.8940\n"
     ]
    }
   ],
   "source": [
    "epochs = 20\n",
    "hist = model.fit(Padded_train, train['label'], epochs=epochs,validation_data=(Padded_val, val['label']),)"
   ]
  },
  {
   "cell_type": "code",
   "execution_count": 32,
   "metadata": {},
   "outputs": [
    {
     "name": "stdout",
     "output_type": "stream",
     "text": [
      "63/63 [==============================] - 1s 8ms/step - loss: 0.4019 - accuracy: 0.8945\n"
     ]
    }
   ],
   "source": [
    "test['text_tokenized'] = test['text'].apply(tokenization)\n",
    "test['text_stop'] = test['text_tokenized'].apply(stopwords_remove)\n",
    "test['text_lemmatized'] = test['text_stop'].apply(lemmatization)\n",
    "test['text_cleaned'] = test['text_lemmatized'].str.join(' ')\n",
    "\n",
    "Tokenized_test = tokenizer.texts_to_sequences(test['text_cleaned'])\n",
    "Padded_test = pad_sequences(Tokenized_test, maxlen=maxlen, padding='pre')\n",
    "\n",
    "test_evaluate = model.evaluate(Padded_test, test['label'])"
   ]
  },
  {
   "cell_type": "code",
   "execution_count": 33,
   "metadata": {},
   "outputs": [
    {
     "name": "stdout",
     "output_type": "stream",
     "text": [
      "Model: \"sequential_2\"\n",
      "_________________________________________________________________\n",
      " Layer (type)                Output Shape              Param #   \n",
      "=================================================================\n",
      " embedding_2 (Embedding)     (None, 40, 16)            160000    \n",
      "                                                                 \n",
      " lstm_6 (LSTM)               (None, 40, 100)           46800     \n",
      "                                                                 \n",
      " dropout_7 (Dropout)         (None, 40, 100)           0         \n",
      "                                                                 \n",
      " lstm_7 (LSTM)               (None, 40, 50)            30200     \n",
      "                                                                 \n",
      " dropout_8 (Dropout)         (None, 40, 50)            0         \n",
      "                                                                 \n",
      " lstm_8 (LSTM)               (None, 40, 40)            14560     \n",
      "                                                                 \n",
      " dropout_9 (Dropout)         (None, 40, 40)            0         \n",
      "                                                                 \n",
      " lstm_9 (LSTM)               (None, 40)                12960     \n",
      "                                                                 \n",
      " dropout_10 (Dropout)        (None, 40)                0         \n",
      "                                                                 \n",
      " dense_2 (Dense)             (None, 6)                 246       \n",
      "                                                                 \n",
      "=================================================================\n",
      "Total params: 264,766\n",
      "Trainable params: 264,766\n",
      "Non-trainable params: 0\n",
      "_________________________________________________________________\n"
     ]
    }
   ],
   "source": [
    "model = Sequential()\n",
    "\n",
    "model.add(Embedding(num_words, 16, input_length=maxlen))\n",
    "\n",
    "model.add(tf.keras.layers.LSTM(100, activation='relu', return_sequences=True))\n",
    "model.add(Dropout(0.3))\n",
    "model.add(tf.keras.layers.LSTM(50, activation='relu', return_sequences=True))\n",
    "model.add(Dropout(0.3))\n",
    "model.add(tf.keras.layers.LSTM(40, activation='relu', return_sequences=True))\n",
    "model.add(Dropout(0.3))\n",
    "model.add(tf.keras.layers.LSTM(40, activation='relu'))\n",
    "model.add(Dropout(0.3))\n",
    "model.add(Dense(6, activation='softmax'))\n",
    "\n",
    "model.compile(loss='sparse_categorical_crossentropy', optimizer='adam', metrics=['accuracy'])\n",
    "\n",
    "model.summary()"
   ]
  },
  {
   "cell_type": "code",
   "execution_count": 34,
   "metadata": {},
   "outputs": [
    {
     "name": "stdout",
     "output_type": "stream",
     "text": [
      "Epoch 1/20\n",
      "500/500 [==============================] - 23s 37ms/step - loss: 1.6859 - accuracy: 0.3298 - val_loss: 1.5155 - val_accuracy: 0.3640\n",
      "Epoch 2/20\n",
      "500/500 [==============================] - 17s 34ms/step - loss: 1.2187 - accuracy: 0.4403 - val_loss: 1.0200 - val_accuracy: 0.5940\n",
      "Epoch 3/20\n",
      "500/500 [==============================] - 17s 33ms/step - loss: 0.9113 - accuracy: 0.6637 - val_loss: 0.7772 - val_accuracy: 0.7325\n",
      "Epoch 4/20\n",
      "500/500 [==============================] - 18s 35ms/step - loss: 0.7426 - accuracy: 0.7551 - val_loss: 0.7114 - val_accuracy: 0.7565\n",
      "Epoch 5/20\n",
      "500/500 [==============================] - 20s 40ms/step - loss: 0.6428 - accuracy: 0.7812 - val_loss: 0.6542 - val_accuracy: 0.7715\n",
      "Epoch 6/20\n",
      "500/500 [==============================] - 21s 43ms/step - loss: 0.5543 - accuracy: 0.8069 - val_loss: 0.5837 - val_accuracy: 0.8135\n",
      "Epoch 7/20\n",
      "500/500 [==============================] - 17s 34ms/step - loss: 0.4678 - accuracy: 0.8398 - val_loss: 0.5012 - val_accuracy: 0.8410\n",
      "Epoch 8/20\n",
      "500/500 [==============================] - 17s 34ms/step - loss: 0.4059 - accuracy: 0.8651 - val_loss: 0.4775 - val_accuracy: 0.8520\n",
      "Epoch 9/20\n",
      "500/500 [==============================] - 17s 34ms/step - loss: 0.4382 - accuracy: 0.8632 - val_loss: 0.4899 - val_accuracy: 0.8510\n",
      "Epoch 10/20\n",
      "500/500 [==============================] - 17s 35ms/step - loss: 0.3509 - accuracy: 0.8842 - val_loss: 0.4786 - val_accuracy: 0.8645\n",
      "Epoch 11/20\n",
      "500/500 [==============================] - 17s 35ms/step - loss: 0.3078 - accuracy: 0.8978 - val_loss: 0.4711 - val_accuracy: 0.8630\n",
      "Epoch 12/20\n",
      "500/500 [==============================] - 17s 35ms/step - loss: 0.3455 - accuracy: 0.8901 - val_loss: 0.4561 - val_accuracy: 0.8725\n",
      "Epoch 13/20\n",
      "500/500 [==============================] - 17s 35ms/step - loss: 0.2787 - accuracy: 0.9060 - val_loss: 0.5043 - val_accuracy: 0.8735\n",
      "Epoch 14/20\n",
      "500/500 [==============================] - 17s 34ms/step - loss: 0.2549 - accuracy: 0.9125 - val_loss: 0.4578 - val_accuracy: 0.8775\n",
      "Epoch 15/20\n",
      "500/500 [==============================] - 17s 35ms/step - loss: 0.2407 - accuracy: 0.9179 - val_loss: 0.4758 - val_accuracy: 0.8740\n",
      "Epoch 16/20\n",
      "500/500 [==============================] - 17s 35ms/step - loss: 0.2292 - accuracy: 0.9230 - val_loss: 0.5373 - val_accuracy: 0.8710\n",
      "Epoch 17/20\n",
      "500/500 [==============================] - 18s 35ms/step - loss: 0.2144 - accuracy: 0.9271 - val_loss: 0.4926 - val_accuracy: 0.8690\n",
      "Epoch 18/20\n",
      "500/500 [==============================] - 18s 35ms/step - loss: 0.1994 - accuracy: 0.9310 - val_loss: 0.5070 - val_accuracy: 0.8785\n",
      "Epoch 19/20\n",
      "500/500 [==============================] - 17s 34ms/step - loss: 0.1984 - accuracy: 0.9312 - val_loss: 0.5177 - val_accuracy: 0.8695\n",
      "Epoch 20/20\n",
      "500/500 [==============================] - 17s 35ms/step - loss: 0.1932 - accuracy: 0.9347 - val_loss: 0.4997 - val_accuracy: 0.8795\n"
     ]
    }
   ],
   "source": [
    "epochs = 20\n",
    "hist = model.fit(Padded_train, train['label'], epochs=epochs,validation_data=(Padded_val, val['label']),)"
   ]
  },
  {
   "cell_type": "code",
   "execution_count": 35,
   "metadata": {},
   "outputs": [
    {
     "name": "stdout",
     "output_type": "stream",
     "text": [
      "63/63 [==============================] - 1s 12ms/step - loss: 0.5586 - accuracy: 0.8675\n"
     ]
    }
   ],
   "source": [
    "test['text_tokenized'] = test['text'].apply(tokenization)\n",
    "test['text_stop'] = test['text_tokenized'].apply(stopwords_remove)\n",
    "test['text_lemmatized'] = test['text_stop'].apply(lemmatization)\n",
    "test['text_cleaned'] = test['text_lemmatized'].str.join(' ')\n",
    "\n",
    "Tokenized_test = tokenizer.texts_to_sequences(test['text_cleaned'])\n",
    "Padded_test = pad_sequences(Tokenized_test, maxlen=maxlen, padding='pre')\n",
    "\n",
    "test_evaluate = model.evaluate(Padded_test, test['label'])"
   ]
  },
  {
   "cell_type": "code",
   "execution_count": 36,
   "metadata": {},
   "outputs": [
    {
     "name": "stdout",
     "output_type": "stream",
     "text": [
      "Model: \"sequential_3\"\n",
      "_________________________________________________________________\n",
      " Layer (type)                Output Shape              Param #   \n",
      "=================================================================\n",
      " embedding_3 (Embedding)     (None, 40, 16)            160000    \n",
      "                                                                 \n",
      " lstm_10 (LSTM)              (None, 40, 50)            13400     \n",
      "                                                                 \n",
      " dropout_11 (Dropout)        (None, 40, 50)            0         \n",
      "                                                                 \n",
      " lstm_11 (LSTM)              (None, 40, 40)            14560     \n",
      "                                                                 \n",
      " dropout_12 (Dropout)        (None, 40, 40)            0         \n",
      "                                                                 \n",
      " lstm_12 (LSTM)              (None, 40, 30)            8520      \n",
      "                                                                 \n",
      " dropout_13 (Dropout)        (None, 40, 30)            0         \n",
      "                                                                 \n",
      " lstm_13 (LSTM)              (None, 40, 20)            4080      \n",
      "                                                                 \n",
      " dropout_14 (Dropout)        (None, 40, 20)            0         \n",
      "                                                                 \n",
      " lstm_14 (LSTM)              (None, 20)                3280      \n",
      "                                                                 \n",
      " dropout_15 (Dropout)        (None, 20)                0         \n",
      "                                                                 \n",
      " dense_3 (Dense)             (None, 6)                 126       \n",
      "                                                                 \n",
      "=================================================================\n",
      "Total params: 203,966\n",
      "Trainable params: 203,966\n",
      "Non-trainable params: 0\n",
      "_________________________________________________________________\n"
     ]
    }
   ],
   "source": [
    "model = Sequential()\n",
    "\n",
    "model.add(Embedding(num_words, 16, input_length=maxlen))\n",
    "\n",
    "\n",
    "model.add(tf.keras.layers.LSTM(50, activation='relu', return_sequences=True))\n",
    "model.add(Dropout(0.1))\n",
    "model.add(tf.keras.layers.LSTM(40, activation='relu', return_sequences=True))\n",
    "model.add(Dropout(0.2))\n",
    "model.add(tf.keras.layers.LSTM(30, activation='relu', return_sequences=True))\n",
    "model.add(Dropout(0.3))\n",
    "model.add(tf.keras.layers.LSTM(20, activation='relu', return_sequences=True))\n",
    "model.add(Dropout(0.3))\n",
    "model.add(tf.keras.layers.LSTM(20, activation='relu'))\n",
    "model.add(Dropout(0.3))\n",
    "model.add(Dense(6, activation='softmax'))\n",
    "\n",
    "model.compile(loss='sparse_categorical_crossentropy', optimizer='adam', metrics=['accuracy'])\n",
    "\n",
    "model.summary()"
   ]
  },
  {
   "cell_type": "code",
   "execution_count": 37,
   "metadata": {},
   "outputs": [
    {
     "name": "stdout",
     "output_type": "stream",
     "text": [
      "Epoch 1/20\n",
      "500/500 [==============================] - 23s 35ms/step - loss: 1.6094 - accuracy: 0.3166 - val_loss: 1.6750 - val_accuracy: 0.3515\n",
      "Epoch 2/20\n",
      "500/500 [==============================] - 17s 34ms/step - loss: 1.3779 - accuracy: 0.3518 - val_loss: 1.1903 - val_accuracy: 0.4235\n",
      "Epoch 3/20\n",
      "500/500 [==============================] - 17s 34ms/step - loss: 1.1095 - accuracy: 0.4434 - val_loss: 1.0833 - val_accuracy: 0.4890\n",
      "Epoch 4/20\n",
      "500/500 [==============================] - 17s 33ms/step - loss: 1.0034 - accuracy: 0.4940 - val_loss: 0.9976 - val_accuracy: 0.5665\n",
      "Epoch 5/20\n",
      "500/500 [==============================] - 17s 33ms/step - loss: 0.8060 - accuracy: 0.6813 - val_loss: 0.6857 - val_accuracy: 0.7835\n",
      "Epoch 6/20\n",
      "500/500 [==============================] - 17s 33ms/step - loss: 0.6120 - accuracy: 0.7917 - val_loss: 0.6057 - val_accuracy: 0.8095\n",
      "Epoch 7/20\n",
      "500/500 [==============================] - 17s 33ms/step - loss: 0.5100 - accuracy: 0.8298 - val_loss: 0.5905 - val_accuracy: 0.8190\n",
      "Epoch 8/20\n",
      "500/500 [==============================] - 17s 33ms/step - loss: 0.4579 - accuracy: 0.8484 - val_loss: 0.5430 - val_accuracy: 0.8360\n",
      "Epoch 9/20\n",
      "500/500 [==============================] - 17s 33ms/step - loss: 0.4034 - accuracy: 0.8700 - val_loss: 0.6280 - val_accuracy: 0.8395\n",
      "Epoch 10/20\n",
      "500/500 [==============================] - 17s 33ms/step - loss: 0.3567 - accuracy: 0.8869 - val_loss: 0.5786 - val_accuracy: 0.8370\n",
      "Epoch 11/20\n",
      "500/500 [==============================] - 17s 33ms/step - loss: 0.3539 - accuracy: 0.8888 - val_loss: 0.5749 - val_accuracy: 0.8315\n",
      "Epoch 12/20\n",
      "500/500 [==============================] - 17s 33ms/step - loss: 0.3413 - accuracy: 0.8894 - val_loss: 0.6005 - val_accuracy: 0.8195\n",
      "Epoch 13/20\n",
      "500/500 [==============================] - 17s 33ms/step - loss: 0.3198 - accuracy: 0.8960 - val_loss: 0.5511 - val_accuracy: 0.8500\n",
      "Epoch 14/20\n",
      "500/500 [==============================] - 17s 33ms/step - loss: 0.2914 - accuracy: 0.9062 - val_loss: 0.5929 - val_accuracy: 0.8425\n",
      "Epoch 15/20\n",
      "500/500 [==============================] - 17s 33ms/step - loss: 0.3044 - accuracy: 0.9083 - val_loss: 0.5877 - val_accuracy: 0.8450\n",
      "Epoch 16/20\n",
      "500/500 [==============================] - 17s 33ms/step - loss: 0.2691 - accuracy: 0.9149 - val_loss: 0.6455 - val_accuracy: 0.8480\n",
      "Epoch 17/20\n",
      "500/500 [==============================] - 17s 34ms/step - loss: 0.2532 - accuracy: 0.9175 - val_loss: 0.6930 - val_accuracy: 0.8545\n",
      "Epoch 18/20\n",
      "500/500 [==============================] - 16s 33ms/step - loss: 0.4097 - accuracy: 0.8739 - val_loss: 0.5608 - val_accuracy: 0.8510\n",
      "Epoch 19/20\n",
      "500/500 [==============================] - 16s 33ms/step - loss: 0.2789 - accuracy: 0.9101 - val_loss: 0.5679 - val_accuracy: 0.8575\n",
      "Epoch 20/20\n",
      "500/500 [==============================] - 16s 33ms/step - loss: 0.2461 - accuracy: 0.9207 - val_loss: 0.7222 - val_accuracy: 0.8630\n"
     ]
    }
   ],
   "source": [
    "epochs = 20\n",
    "hist = model.fit(Padded_train, train['label'], epochs=epochs,validation_data=(Padded_val, val['label']),)"
   ]
  },
  {
   "cell_type": "code",
   "execution_count": 38,
   "metadata": {},
   "outputs": [
    {
     "name": "stdout",
     "output_type": "stream",
     "text": [
      "63/63 [==============================] - 1s 14ms/step - loss: 0.7501 - accuracy: 0.8630\n"
     ]
    }
   ],
   "source": [
    "test['text_tokenized'] = test['text'].apply(tokenization)\n",
    "test['text_stop'] = test['text_tokenized'].apply(stopwords_remove)\n",
    "test['text_lemmatized'] = test['text_stop'].apply(lemmatization)\n",
    "test['text_cleaned'] = test['text_lemmatized'].str.join(' ')\n",
    "\n",
    "Tokenized_test = tokenizer.texts_to_sequences(test['text_cleaned'])\n",
    "Padded_test = pad_sequences(Tokenized_test, maxlen=maxlen, padding='pre')\n",
    "\n",
    "test_evaluate = model.evaluate(Padded_test, test['label'])"
   ]
  },
  {
   "cell_type": "code",
   "execution_count": 39,
   "metadata": {},
   "outputs": [],
   "source": [
    "class GNNLayer(tf.keras.layers.Layer):\n",
    "    def __init__(self, units, adjacency_matrix, **kwargs):\n",
    "        super().__init__(**kwargs)\n",
    "        self.units = units\n",
    "        self.adjacency_matrix = adjacency_matrix\n",
    "\n",
    "    def call(self, inputs):\n",
    "        # Compute the weighted sum of the neighbors' features.\n",
    "        neighbors_features = tf.matmul(self.adjacency_matrix, inputs)\n",
    "\n",
    "        # Update the node features.\n",
    "        node_features = tf.nn.relu(tf.add(inputs, neighbors_features))\n",
    "\n",
    "        return node_features"
   ]
  },
  {
   "cell_type": "code",
   "execution_count": 40,
   "metadata": {},
   "outputs": [
    {
     "data": {
      "text/plain": [
       "(16000, 40)"
      ]
     },
     "execution_count": 40,
     "metadata": {},
     "output_type": "execute_result"
    }
   ],
   "source": [
    "Padded_train.shape"
   ]
  },
  {
   "cell_type": "code",
   "execution_count": 41,
   "metadata": {},
   "outputs": [
    {
     "data": {
      "text/plain": [
       "(40,)"
      ]
     },
     "execution_count": 41,
     "metadata": {},
     "output_type": "execute_result"
    }
   ],
   "source": [
    "Padded_train[0].shape"
   ]
  },
  {
   "cell_type": "code",
   "execution_count": 42,
   "metadata": {},
   "outputs": [],
   "source": [
    "import numpy as np"
   ]
  },
  {
   "cell_type": "code",
   "execution_count": 43,
   "metadata": {},
   "outputs": [
    {
     "name": "stdout",
     "output_type": "stream",
     "text": [
      "[[0. 0. 0. ... 0. 0. 0.]\n",
      " [0. 0. 1. ... 1. 1. 0.]\n",
      " [0. 1. 0. ... 1. 1. 0.]\n",
      " ...\n",
      " [0. 1. 1. ... 0. 1. 0.]\n",
      " [0. 1. 1. ... 1. 0. 0.]\n",
      " [0. 0. 0. ... 0. 0. 0.]]\n"
     ]
    }
   ],
   "source": [
    "adjacency_matrix = np.zeros((40, 40))\n",
    "\n",
    "# Set the adjacency matrix to 1 for all pairs of nodes that are connected.\n",
    "for i in range(40):\n",
    "    for j in range(40):\n",
    "        if i != j:\n",
    "            adjacency_matrix[i, j] = 1\n",
    "\n",
    "# Set the adjacency matrix to 0 for the first and last node.\n",
    "adjacency_matrix[0, :] = 0\n",
    "adjacency_matrix[:, 0] = 0\n",
    "adjacency_matrix[-1, :] = 0\n",
    "adjacency_matrix[:, -1] = 0\n",
    "\n",
    "print(adjacency_matrix)"
   ]
  },
  {
   "cell_type": "code",
   "execution_count": 44,
   "metadata": {},
   "outputs": [],
   "source": [
    "adjacency_matrix = tf.cast(adjacency_matrix, tf.float32)"
   ]
  },
  {
   "cell_type": "code",
   "execution_count": 45,
   "metadata": {},
   "outputs": [
    {
     "name": "stdout",
     "output_type": "stream",
     "text": [
      "Model: \"sequential_4\"\n",
      "_________________________________________________________________\n",
      " Layer (type)                Output Shape              Param #   \n"
     ]
    },
    {
     "name": "stdout",
     "output_type": "stream",
     "text": [
      "=================================================================\n",
      " embedding_4 (Embedding)     (None, 40, 16)            160000    \n",
      "                                                                 \n",
      " conv1d_1 (Conv1D)           (None, 38, 32)            1568      \n",
      "                                                                 \n",
      " max_pooling1d (MaxPooling1D  (None, 19, 32)           0         \n",
      " )                                                               \n",
      "                                                                 \n",
      " conv1d_2 (Conv1D)           (None, 17, 64)            6208      \n",
      "                                                                 \n",
      " max_pooling1d_1 (MaxPooling  (None, 8, 64)            0         \n",
      " 1D)                                                             \n",
      "                                                                 \n",
      " conv1d_3 (Conv1D)           (None, 6, 64)             12352     \n",
      "                                                                 \n",
      " flatten (Flatten)           (None, 384)               0         \n",
      "                                                                 \n",
      " dense_4 (Dense)             (None, 6)                 2310      \n",
      "                                                                 \n",
      "=================================================================\n",
      "Total params: 182,438\n",
      "Trainable params: 182,438\n",
      "Non-trainable params: 0\n",
      "_________________________________________________________________\n"
     ]
    }
   ],
   "source": [
    "\n",
    "model = Sequential()\n",
    "\n",
    "model.add(Embedding(num_words, 16, input_length=maxlen))\n",
    "model.add(tf.keras.layers.Conv1D(32, kernel_size=3, activation='relu'))\n",
    "model.add(tf.keras.layers.MaxPooling1D(pool_size=2))\n",
    "model.add(tf.keras.layers.Conv1D(64, kernel_size=3, activation='relu'))\n",
    "model.add(tf.keras.layers.MaxPooling1D(pool_size=2))\n",
    "model.add(tf.keras.layers.Conv1D(64, kernel_size=3, activation='relu'))\n",
    "\n",
    "model.add(layers.Flatten())\n",
    "model.add(Dense(6, activation='softmax'))\n",
    "\n",
    "model.compile(loss='sparse_categorical_crossentropy', optimizer='adam', metrics=['accuracy'])\n",
    "\n",
    "model.summary()"
   ]
  },
  {
   "cell_type": "code",
   "execution_count": 46,
   "metadata": {},
   "outputs": [
    {
     "name": "stdout",
     "output_type": "stream",
     "text": [
      "Epoch 1/20\n",
      "500/500 [==============================] - 4s 5ms/step - loss: 1.4880 - accuracy: 0.4068 - val_loss: 1.3017 - val_accuracy: 0.5020\n",
      "Epoch 2/20\n",
      "500/500 [==============================] - 3s 5ms/step - loss: 1.1579 - accuracy: 0.5268 - val_loss: 1.0987 - val_accuracy: 0.5390\n",
      "Epoch 3/20\n",
      "500/500 [==============================] - 3s 5ms/step - loss: 0.8572 - accuracy: 0.6638 - val_loss: 0.9205 - val_accuracy: 0.6630\n",
      "Epoch 4/20\n",
      "500/500 [==============================] - 3s 5ms/step - loss: 0.6478 - accuracy: 0.7477 - val_loss: 0.9381 - val_accuracy: 0.6695\n",
      "Epoch 5/20\n",
      "500/500 [==============================] - 3s 5ms/step - loss: 0.5402 - accuracy: 0.7916 - val_loss: 1.0231 - val_accuracy: 0.6735\n",
      "Epoch 6/20\n",
      "500/500 [==============================] - 3s 5ms/step - loss: 0.4796 - accuracy: 0.8118 - val_loss: 1.1388 - val_accuracy: 0.6650\n",
      "Epoch 7/20\n",
      "500/500 [==============================] - 2s 5ms/step - loss: 0.4393 - accuracy: 0.8246 - val_loss: 1.2160 - val_accuracy: 0.6715\n",
      "Epoch 8/20\n",
      "500/500 [==============================] - 2s 5ms/step - loss: 0.4076 - accuracy: 0.8395 - val_loss: 1.3245 - val_accuracy: 0.6715\n",
      "Epoch 9/20\n",
      "500/500 [==============================] - 2s 5ms/step - loss: 0.3816 - accuracy: 0.8489 - val_loss: 1.5021 - val_accuracy: 0.6610\n",
      "Epoch 10/20\n",
      "500/500 [==============================] - 2s 5ms/step - loss: 0.3621 - accuracy: 0.8539 - val_loss: 1.5477 - val_accuracy: 0.6690\n",
      "Epoch 11/20\n",
      "500/500 [==============================] - 2s 5ms/step - loss: 0.3446 - accuracy: 0.8608 - val_loss: 1.7003 - val_accuracy: 0.6630\n",
      "Epoch 12/20\n",
      "500/500 [==============================] - 2s 5ms/step - loss: 0.3301 - accuracy: 0.8661 - val_loss: 1.8795 - val_accuracy: 0.6570\n",
      "Epoch 13/20\n",
      "500/500 [==============================] - 3s 5ms/step - loss: 0.3248 - accuracy: 0.8659 - val_loss: 1.8291 - val_accuracy: 0.6590\n",
      "Epoch 14/20\n",
      "500/500 [==============================] - 3s 5ms/step - loss: 0.3189 - accuracy: 0.8706 - val_loss: 2.0157 - val_accuracy: 0.6565\n",
      "Epoch 15/20\n",
      "500/500 [==============================] - 3s 5ms/step - loss: 0.3047 - accuracy: 0.8758 - val_loss: 2.1089 - val_accuracy: 0.6455\n",
      "Epoch 16/20\n",
      "500/500 [==============================] - 3s 5ms/step - loss: 0.2983 - accuracy: 0.8783 - val_loss: 2.2224 - val_accuracy: 0.6500\n",
      "Epoch 17/20\n",
      "500/500 [==============================] - 3s 5ms/step - loss: 0.2912 - accuracy: 0.8823 - val_loss: 2.3601 - val_accuracy: 0.6480\n",
      "Epoch 18/20\n",
      "500/500 [==============================] - 3s 5ms/step - loss: 0.2852 - accuracy: 0.8846 - val_loss: 2.3708 - val_accuracy: 0.6460\n",
      "Epoch 19/20\n",
      "500/500 [==============================] - 3s 5ms/step - loss: 0.2861 - accuracy: 0.8839 - val_loss: 2.3136 - val_accuracy: 0.6415\n",
      "Epoch 20/20\n",
      "500/500 [==============================] - 3s 5ms/step - loss: 0.2792 - accuracy: 0.8862 - val_loss: 2.4520 - val_accuracy: 0.6490\n"
     ]
    }
   ],
   "source": [
    "epochs = 20\n",
    "hist = model.fit(Padded_train, train['label'], epochs=epochs,validation_data=(Padded_val, val['label']),)"
   ]
  },
  {
   "cell_type": "code",
   "execution_count": 47,
   "metadata": {},
   "outputs": [
    {
     "name": "stdout",
     "output_type": "stream",
     "text": [
      "63/63 [==============================] - 0s 2ms/step - loss: 2.5504 - accuracy: 0.6330\n"
     ]
    }
   ],
   "source": [
    "test['text_tokenized'] = test['text'].apply(tokenization)\n",
    "test['text_stop'] = test['text_tokenized'].apply(stopwords_remove)\n",
    "test['text_lemmatized'] = test['text_stop'].apply(lemmatization)\n",
    "test['text_cleaned'] = test['text_lemmatized'].str.join(' ')\n",
    "\n",
    "Tokenized_test = tokenizer.texts_to_sequences(test['text_cleaned'])\n",
    "Padded_test = pad_sequences(Tokenized_test, maxlen=maxlen, padding='pre')\n",
    "\n",
    "test_evaluate = model.evaluate(Padded_test, test['label'])"
   ]
  },
  {
   "cell_type": "code",
   "execution_count": 48,
   "metadata": {},
   "outputs": [
    {
     "name": "stdout",
     "output_type": "stream",
     "text": [
      "Model: \"sequential_5\"\n",
      "_________________________________________________________________\n",
      " Layer (type)                Output Shape              Param #   \n",
      "=================================================================\n",
      " embedding_5 (Embedding)     (None, 40, 16)            160000    \n",
      "                                                                 \n",
      " gnn_layer (GNNLayer)        (None, 40, 16)            0         \n",
      "                                                                 \n",
      " conv1d_4 (Conv1D)           (None, 38, 32)            1568      \n",
      "                                                                 \n",
      " max_pooling1d_2 (MaxPooling  (None, 19, 32)           0         \n",
      " 1D)                                                             \n",
      "                                                                 \n",
      " dropout_16 (Dropout)        (None, 19, 32)            0         \n",
      "                                                                 \n",
      " conv1d_5 (Conv1D)           (None, 17, 64)            6208      \n",
      "                                                                 \n",
      " max_pooling1d_3 (MaxPooling  (None, 8, 64)            0         \n",
      " 1D)                                                             \n",
      "                                                                 \n",
      " dropout_17 (Dropout)        (None, 8, 64)             0         \n",
      "                                                                 \n",
      " conv1d_6 (Conv1D)           (None, 6, 64)             12352     \n",
      "                                                                 \n",
      " flatten_1 (Flatten)         (None, 384)               0         \n",
      "                                                                 \n",
      " dense_5 (Dense)             (None, 6)                 2310      \n",
      "                                                                 \n",
      "=================================================================\n",
      "Total params: 182,438\n",
      "Trainable params: 182,438\n",
      "Non-trainable params: 0\n",
      "_________________________________________________________________\n"
     ]
    }
   ],
   "source": [
    "model = tf.keras.Sequential()\n",
    "\n",
    "# Add an embedding layer to convert the words to vectors.\n",
    "model.add(Embedding(num_words, 16, input_length=maxlen))\n",
    "\n",
    "model.add(GNNLayer(35, adjacency_matrix))\n",
    "# model.add(GlobalSumPool())\n",
    "model.add(tf.keras.layers.Conv1D(32, kernel_size=3, activation='relu'))\n",
    "model.add(tf.keras.layers.MaxPooling1D(pool_size=2))\n",
    "model.add(Dropout(0.1))\n",
    "model.add(tf.keras.layers.Conv1D(64, kernel_size=3, activation='relu'))\n",
    "model.add(tf.keras.layers.MaxPooling1D(pool_size=2))\n",
    "model.add(Dropout(0.1))\n",
    "model.add(tf.keras.layers.Conv1D(64, kernel_size=3, activation='relu'))\n",
    "model.add(layers.Flatten())\n",
    "model.add(Dense(6, activation='softmax'))\n",
    "\n",
    "# Compile the model.\n",
    "model.compile(loss='sparse_categorical_crossentropy', optimizer='adam', metrics=['accuracy'])\n",
    "model.summary()"
   ]
  },
  {
   "cell_type": "code",
   "execution_count": 49,
   "metadata": {},
   "outputs": [
    {
     "name": "stdout",
     "output_type": "stream",
     "text": [
      "Epoch 1/20\n",
      "500/500 [==============================] - 4s 6ms/step - loss: 1.2792 - accuracy: 0.4978 - val_loss: 0.9308 - val_accuracy: 0.6730\n",
      "Epoch 2/20\n",
      "500/500 [==============================] - 3s 5ms/step - loss: 0.7216 - accuracy: 0.7411 - val_loss: 0.8003 - val_accuracy: 0.7335\n",
      "Epoch 3/20\n",
      "500/500 [==============================] - 3s 5ms/step - loss: 0.5225 - accuracy: 0.8170 - val_loss: 0.7815 - val_accuracy: 0.7315\n",
      "Epoch 4/20\n",
      "500/500 [==============================] - 3s 5ms/step - loss: 0.4280 - accuracy: 0.8517 - val_loss: 0.8080 - val_accuracy: 0.7355\n",
      "Epoch 5/20\n",
      "500/500 [==============================] - 3s 5ms/step - loss: 0.3720 - accuracy: 0.8705 - val_loss: 0.8358 - val_accuracy: 0.7310\n",
      "Epoch 6/20\n",
      "500/500 [==============================] - 3s 5ms/step - loss: 0.3339 - accuracy: 0.8833 - val_loss: 0.8722 - val_accuracy: 0.7335\n",
      "Epoch 7/20\n",
      "500/500 [==============================] - 3s 5ms/step - loss: 0.3064 - accuracy: 0.8924 - val_loss: 0.9180 - val_accuracy: 0.7240\n",
      "Epoch 8/20\n",
      "500/500 [==============================] - 3s 5ms/step - loss: 0.2869 - accuracy: 0.8967 - val_loss: 1.0046 - val_accuracy: 0.7140\n",
      "Epoch 9/20\n",
      "500/500 [==============================] - 3s 5ms/step - loss: 0.2669 - accuracy: 0.9028 - val_loss: 1.0355 - val_accuracy: 0.7035\n",
      "Epoch 10/20\n",
      "500/500 [==============================] - 3s 5ms/step - loss: 0.2587 - accuracy: 0.9063 - val_loss: 1.1445 - val_accuracy: 0.7120\n",
      "Epoch 11/20\n",
      "500/500 [==============================] - 3s 5ms/step - loss: 0.2459 - accuracy: 0.9100 - val_loss: 1.2035 - val_accuracy: 0.7010\n",
      "Epoch 12/20\n",
      "500/500 [==============================] - 3s 5ms/step - loss: 0.2324 - accuracy: 0.9152 - val_loss: 1.1734 - val_accuracy: 0.7120\n",
      "Epoch 13/20\n",
      "500/500 [==============================] - 3s 5ms/step - loss: 0.2281 - accuracy: 0.9144 - val_loss: 1.2036 - val_accuracy: 0.7115\n",
      "Epoch 14/20\n",
      "500/500 [==============================] - 3s 5ms/step - loss: 0.2239 - accuracy: 0.9166 - val_loss: 1.3350 - val_accuracy: 0.7070\n",
      "Epoch 15/20\n",
      "500/500 [==============================] - 3s 5ms/step - loss: 0.2124 - accuracy: 0.9209 - val_loss: 1.3452 - val_accuracy: 0.7080\n",
      "Epoch 16/20\n",
      "500/500 [==============================] - 3s 5ms/step - loss: 0.2108 - accuracy: 0.9213 - val_loss: 1.3474 - val_accuracy: 0.7115\n",
      "Epoch 17/20\n",
      "500/500 [==============================] - 3s 5ms/step - loss: 0.2046 - accuracy: 0.9217 - val_loss: 1.3647 - val_accuracy: 0.6985\n",
      "Epoch 18/20\n",
      "500/500 [==============================] - 3s 5ms/step - loss: 0.2025 - accuracy: 0.9231 - val_loss: 1.4040 - val_accuracy: 0.6985\n",
      "Epoch 19/20\n",
      "500/500 [==============================] - 3s 5ms/step - loss: 0.1922 - accuracy: 0.9258 - val_loss: 1.7910 - val_accuracy: 0.6805\n",
      "Epoch 20/20\n",
      "500/500 [==============================] - 3s 5ms/step - loss: 0.1958 - accuracy: 0.9249 - val_loss: 1.4573 - val_accuracy: 0.7025\n"
     ]
    }
   ],
   "source": [
    "epochs = 20\n",
    "hist = model.fit(Padded_train, train['label'], epochs=epochs,validation_data=(Padded_val, val['label']),)"
   ]
  },
  {
   "cell_type": "code",
   "execution_count": 50,
   "metadata": {},
   "outputs": [
    {
     "name": "stdout",
     "output_type": "stream",
     "text": [
      "63/63 [==============================] - 0s 2ms/step - loss: 1.3560 - accuracy: 0.7150\n"
     ]
    }
   ],
   "source": [
    "test['text_tokenized'] = test['text'].apply(tokenization)\n",
    "test['text_stop'] = test['text_tokenized'].apply(stopwords_remove)\n",
    "test['text_lemmatized'] = test['text_stop'].apply(lemmatization)\n",
    "test['text_cleaned'] = test['text_lemmatized'].str.join(' ')\n",
    "\n",
    "Tokenized_test = tokenizer.texts_to_sequences(test['text_cleaned'])\n",
    "Padded_test = pad_sequences(Tokenized_test, maxlen=maxlen, padding='pre')\n",
    "\n",
    "test_evaluate = model.evaluate(Padded_test, test['label'])"
   ]
  },
  {
   "cell_type": "code",
   "execution_count": 51,
   "metadata": {},
   "outputs": [
    {
     "name": "stdout",
     "output_type": "stream",
     "text": [
      "Model: \"sequential_6\"\n",
      "_________________________________________________________________\n",
      " Layer (type)                Output Shape              Param #   \n",
      "=================================================================\n",
      " embedding_6 (Embedding)     (None, 40, 16)            160000    \n",
      "                                                                 \n",
      " gnn_layer_1 (GNNLayer)      (None, 40, 16)            0         \n",
      "                                                                 \n",
      " lstm_15 (LSTM)              (None, 40, 35)            7280      \n",
      "                                                                 \n",
      " dropout_18 (Dropout)        (None, 40, 35)            0         \n",
      "                                                                 \n",
      " lstm_16 (LSTM)              (None, 30)                7920      \n",
      "                                                                 \n",
      " dropout_19 (Dropout)        (None, 30)                0         \n",
      "                                                                 \n",
      " dense_6 (Dense)             (None, 6)                 186       \n",
      "                                                                 \n",
      "=================================================================\n",
      "Total params: 175,386\n",
      "Trainable params: 175,386\n",
      "Non-trainable params: 0\n",
      "_________________________________________________________________\n"
     ]
    }
   ],
   "source": [
    "model = tf.keras.Sequential()\n",
    "\n",
    "# Add an embedding layer to convert the words to vectors.\n",
    "model.add(Embedding(num_words, 16, input_length=maxlen))\n",
    "model.add(GNNLayer(35, adjacency_matrix))\n",
    "# model.add(GlobalSumPool())\n",
    "model.add(tf.keras.layers.LSTM(35, return_sequences=True, activation='relu'))\n",
    "model.add(Dropout(0.1))\n",
    "\n",
    "model.add(tf.keras.layers.LSTM(30, activation='relu'))\n",
    "model.add(Dropout(0.1))\n",
    "\n",
    "\n",
    "model.add(Dense(6, activation='softmax'))\n",
    "\n",
    "# Compile the model.\n",
    "model.compile(loss='sparse_categorical_crossentropy', optimizer='adam', metrics=['accuracy'])\n",
    "model.summary()"
   ]
  },
  {
   "cell_type": "code",
   "execution_count": 52,
   "metadata": {},
   "outputs": [
    {
     "name": "stdout",
     "output_type": "stream",
     "text": [
      "Epoch 1/20\n",
      "500/500 [==============================] - 10s 15ms/step - loss: 1.4131 - accuracy: 0.4178 - val_loss: 1.0361 - val_accuracy: 0.6415\n",
      "Epoch 2/20\n",
      "500/500 [==============================] - 7s 14ms/step - loss: 0.8181 - accuracy: 0.7151 - val_loss: 0.8501 - val_accuracy: 0.7095\n",
      "Epoch 3/20\n",
      "500/500 [==============================] - 7s 14ms/step - loss: 0.5693 - accuracy: 0.7917 - val_loss: 0.8114 - val_accuracy: 0.7390\n",
      "Epoch 4/20\n",
      "500/500 [==============================] - 7s 14ms/step - loss: 0.4156 - accuracy: 0.8545 - val_loss: 0.8003 - val_accuracy: 0.7625\n",
      "Epoch 5/20\n",
      "500/500 [==============================] - 7s 14ms/step - loss: 0.3619 - accuracy: 0.8877 - val_loss: 0.7814 - val_accuracy: 0.7865\n",
      "Epoch 6/20\n",
      "500/500 [==============================] - 7s 14ms/step - loss: 0.2645 - accuracy: 0.9073 - val_loss: 0.8061 - val_accuracy: 0.7950\n",
      "Epoch 7/20\n",
      "500/500 [==============================] - 7s 14ms/step - loss: 0.2277 - accuracy: 0.9194 - val_loss: 0.8066 - val_accuracy: 0.8055\n",
      "Epoch 8/20\n",
      "500/500 [==============================] - 7s 14ms/step - loss: 0.1916 - accuracy: 0.9323 - val_loss: 0.8046 - val_accuracy: 0.7960\n",
      "Epoch 9/20\n",
      "500/500 [==============================] - 7s 14ms/step - loss: 0.1749 - accuracy: 0.9385 - val_loss: 0.9152 - val_accuracy: 0.7870\n",
      "Epoch 10/20\n",
      "500/500 [==============================] - 7s 14ms/step - loss: 0.1643 - accuracy: 0.9441 - val_loss: 1.0498 - val_accuracy: 0.7840\n",
      "Epoch 11/20\n",
      "500/500 [==============================] - 7s 14ms/step - loss: 0.1510 - accuracy: 0.9492 - val_loss: 0.9467 - val_accuracy: 0.8010\n",
      "Epoch 12/20\n",
      "500/500 [==============================] - 7s 14ms/step - loss: 0.1345 - accuracy: 0.9543 - val_loss: 0.9599 - val_accuracy: 0.8005\n",
      "Epoch 13/20\n",
      "500/500 [==============================] - 7s 14ms/step - loss: 0.1437 - accuracy: 0.9524 - val_loss: 1.0319 - val_accuracy: 0.8040\n",
      "Epoch 14/20\n",
      "500/500 [==============================] - 7s 14ms/step - loss: 0.1154 - accuracy: 0.9626 - val_loss: 1.0048 - val_accuracy: 0.8105\n",
      "Epoch 15/20\n",
      "500/500 [==============================] - 7s 14ms/step - loss: 0.0977 - accuracy: 0.9658 - val_loss: 1.0898 - val_accuracy: 0.8115\n",
      "Epoch 16/20\n",
      "500/500 [==============================] - 7s 14ms/step - loss: 0.0993 - accuracy: 0.9672 - val_loss: 1.1328 - val_accuracy: 0.7965\n",
      "Epoch 17/20\n",
      "500/500 [==============================] - 7s 14ms/step - loss: 0.0935 - accuracy: 0.9683 - val_loss: 1.1612 - val_accuracy: 0.8045\n",
      "Epoch 18/20\n",
      "500/500 [==============================] - 7s 14ms/step - loss: 0.0866 - accuracy: 0.9697 - val_loss: 1.0629 - val_accuracy: 0.8105\n",
      "Epoch 19/20\n",
      "500/500 [==============================] - 7s 14ms/step - loss: 0.0809 - accuracy: 0.9724 - val_loss: 1.1506 - val_accuracy: 0.7755\n",
      "Epoch 20/20\n",
      "500/500 [==============================] - 7s 14ms/step - loss: 0.0793 - accuracy: 0.9735 - val_loss: 1.1299 - val_accuracy: 0.8090\n"
     ]
    }
   ],
   "source": [
    "epochs = 20\n",
    "hist = model.fit(Padded_train, train['label'], epochs=epochs,validation_data=(Padded_val, val['label']),)"
   ]
  },
  {
   "cell_type": "code",
   "execution_count": 53,
   "metadata": {},
   "outputs": [
    {
     "name": "stdout",
     "output_type": "stream",
     "text": [
      "63/63 [==============================] - 0s 5ms/step - loss: 1.1615 - accuracy: 0.7900\n"
     ]
    }
   ],
   "source": [
    "test['text_tokenized'] = test['text'].apply(tokenization)\n",
    "test['text_stop'] = test['text_tokenized'].apply(stopwords_remove)\n",
    "test['text_lemmatized'] = test['text_stop'].apply(lemmatization)\n",
    "test['text_cleaned'] = test['text_lemmatized'].str.join(' ')\n",
    "\n",
    "Tokenized_test = tokenizer.texts_to_sequences(test['text_cleaned'])\n",
    "Padded_test = pad_sequences(Tokenized_test, maxlen=maxlen, padding='pre')\n",
    "\n",
    "test_evaluate = model.evaluate(Padded_test, test['label'])"
   ]
  },
  {
   "cell_type": "code",
   "execution_count": 54,
   "metadata": {},
   "outputs": [
    {
     "name": "stdout",
     "output_type": "stream",
     "text": [
      "Model: \"sequential_7\"\n",
      "_________________________________________________________________\n",
      " Layer (type)                Output Shape              Param #   \n",
      "=================================================================\n",
      " embedding_7 (Embedding)     (None, 40, 16)            160000    \n",
      "                                                                 \n",
      " gnn_layer_2 (GNNLayer)      (None, 40, 16)            0         \n",
      "                                                                 \n",
      " conv1d_7 (Conv1D)           (None, 40, 32)            544       \n",
      "                                                                 \n",
      " bidirectional (Bidirectiona  (None, 70)               19040     \n",
      " l)                                                              \n",
      "                                                                 \n",
      " dropout_20 (Dropout)        (None, 70)                0         \n",
      "                                                                 \n",
      " dense_7 (Dense)             (None, 6)                 426       \n",
      "                                                                 \n",
      "=================================================================\n",
      "Total params: 180,010\n",
      "Trainable params: 180,010\n",
      "Non-trainable params: 0\n",
      "_________________________________________________________________\n"
     ]
    }
   ],
   "source": [
    "model = tf.keras.Sequential()\n",
    "\n",
    "model.add(Embedding(num_words, 16, input_length=maxlen))\n",
    "model.add(GNNLayer(35, adjacency_matrix))\n",
    "model.add(tf.keras.layers.Conv1D(32, kernel_size=1, activation='relu'))\n",
    "model.add(tf.keras.layers.Bidirectional(tf.keras.layers.LSTM(35, activation='relu')))\n",
    "model.add(Dropout(0.3))\n",
    "\n",
    "model.add(Dense(6, activation='softmax'))\n",
    "\n",
    "# Compile the model.\n",
    "model.compile(loss='sparse_categorical_crossentropy', optimizer='adam', metrics=['accuracy'])\n",
    "model.summary()"
   ]
  },
  {
   "cell_type": "code",
   "execution_count": 55,
   "metadata": {},
   "outputs": [
    {
     "name": "stdout",
     "output_type": "stream",
     "text": [
      "Epoch 1/20\n",
      "500/500 [==============================] - 9s 12ms/step - loss: 1.5315 - accuracy: 0.3666 - val_loss: 1.2560 - val_accuracy: 0.5060\n",
      "Epoch 2/20\n",
      "500/500 [==============================] - 6s 11ms/step - loss: 0.9317 - accuracy: 0.6827 - val_loss: 0.8265 - val_accuracy: 0.7035\n",
      "Epoch 3/20\n",
      "500/500 [==============================] - 5s 11ms/step - loss: 0.5796 - accuracy: 0.7978 - val_loss: 0.7441 - val_accuracy: 0.7565\n",
      "Epoch 4/20\n",
      "500/500 [==============================] - 5s 11ms/step - loss: 0.4185 - accuracy: 0.8561 - val_loss: 0.7160 - val_accuracy: 0.7815\n",
      "Epoch 5/20\n",
      "500/500 [==============================] - 5s 11ms/step - loss: 0.3271 - accuracy: 0.8929 - val_loss: 0.6821 - val_accuracy: 0.8020\n",
      "Epoch 6/20\n",
      "500/500 [==============================] - 5s 11ms/step - loss: 0.2527 - accuracy: 0.9180 - val_loss: 0.7316 - val_accuracy: 0.7900\n",
      "Epoch 7/20\n",
      "500/500 [==============================] - 5s 11ms/step - loss: 0.2039 - accuracy: 0.9337 - val_loss: 0.7322 - val_accuracy: 0.8015\n",
      "Epoch 8/20\n",
      "500/500 [==============================] - 5s 11ms/step - loss: 0.1659 - accuracy: 0.9473 - val_loss: 0.7509 - val_accuracy: 0.7905\n",
      "Epoch 9/20\n",
      "500/500 [==============================] - 5s 11ms/step - loss: 0.1466 - accuracy: 0.9534 - val_loss: 0.7928 - val_accuracy: 0.8135\n",
      "Epoch 10/20\n",
      "500/500 [==============================] - 5s 11ms/step - loss: 0.1384 - accuracy: 0.9554 - val_loss: 0.8768 - val_accuracy: 0.8075\n",
      "Epoch 11/20\n",
      "500/500 [==============================] - 5s 11ms/step - loss: 0.1095 - accuracy: 0.9649 - val_loss: 1.0047 - val_accuracy: 0.8035\n",
      "Epoch 12/20\n",
      "500/500 [==============================] - 6s 11ms/step - loss: 0.1050 - accuracy: 0.9668 - val_loss: 0.9757 - val_accuracy: 0.7970\n",
      "Epoch 13/20\n",
      "500/500 [==============================] - 6s 11ms/step - loss: 0.0951 - accuracy: 0.9695 - val_loss: 0.9238 - val_accuracy: 0.8040\n",
      "Epoch 14/20\n",
      "500/500 [==============================] - 6s 11ms/step - loss: 0.1146 - accuracy: 0.9662 - val_loss: 0.8582 - val_accuracy: 0.8075\n",
      "Epoch 15/20\n",
      "500/500 [==============================] - 6s 11ms/step - loss: 0.1469 - accuracy: 0.9577 - val_loss: 0.9064 - val_accuracy: 0.8005\n",
      "Epoch 16/20\n",
      "500/500 [==============================] - 5s 11ms/step - loss: 0.1189 - accuracy: 0.9711 - val_loss: 0.8770 - val_accuracy: 0.8045\n",
      "Epoch 17/20\n",
      "500/500 [==============================] - 5s 11ms/step - loss: 0.0667 - accuracy: 0.9779 - val_loss: 0.9265 - val_accuracy: 0.8115\n",
      "Epoch 18/20\n",
      "500/500 [==============================] - 5s 11ms/step - loss: 0.0574 - accuracy: 0.9806 - val_loss: 1.0433 - val_accuracy: 0.8115\n",
      "Epoch 19/20\n",
      "500/500 [==============================] - 5s 10ms/step - loss: 0.0571 - accuracy: 0.9811 - val_loss: 1.1701 - val_accuracy: 0.8005\n",
      "Epoch 20/20\n",
      "500/500 [==============================] - 5s 10ms/step - loss: 0.3964 - accuracy: 0.8924 - val_loss: 1.0170 - val_accuracy: 0.7210\n"
     ]
    }
   ],
   "source": [
    "epochs = 20\n",
    "hist = model.fit(Padded_train, train['label'], epochs=epochs,validation_data=(Padded_val, val['label']),)"
   ]
  },
  {
   "cell_type": "code",
   "execution_count": 56,
   "metadata": {},
   "outputs": [
    {
     "name": "stdout",
     "output_type": "stream",
     "text": [
      "63/63 [==============================] - 0s 4ms/step - loss: 0.9901 - accuracy: 0.7305\n"
     ]
    }
   ],
   "source": [
    "test['text_tokenized'] = test['text'].apply(tokenization)\n",
    "test['text_stop'] = test['text_tokenized'].apply(stopwords_remove)\n",
    "test['text_lemmatized'] = test['text_stop'].apply(lemmatization)\n",
    "test['text_cleaned'] = test['text_lemmatized'].str.join(' ')\n",
    "\n",
    "Tokenized_test = tokenizer.texts_to_sequences(test['text_cleaned'])\n",
    "Padded_test = pad_sequences(Tokenized_test, maxlen=maxlen, padding='pre')\n",
    "\n",
    "test_evaluate = model.evaluate(Padded_test, test['label'])"
   ]
  },
  {
   "cell_type": "code",
   "execution_count": 61,
   "metadata": {},
   "outputs": [
    {
     "name": "stdout",
     "output_type": "stream",
     "text": [
      "Model: \"sequential_12\"\n",
      "_________________________________________________________________\n",
      " Layer (type)                Output Shape              Param #   \n",
      "=================================================================\n",
      " embedding_12 (Embedding)    (None, 40, 16)            160000    \n",
      "                                                                 \n",
      " gru_4 (GRU)                 (None, 40, 35)            5565      \n",
      "                                                                 \n",
      " gru_5 (GRU)                 (None, 40, 35)            7560      \n",
      "                                                                 \n",
      " gru_6 (GRU)                 (None, 40, 35)            7560      \n",
      "                                                                 \n",
      " simple_rnn_1 (SimpleRNN)    (None, 35)                2485      \n",
      "                                                                 \n",
      " dense_9 (Dense)             (None, 6)                 216       \n",
      "                                                                 \n",
      "=================================================================\n",
      "Total params: 183,386\n",
      "Trainable params: 183,386\n",
      "Non-trainable params: 0\n",
      "_________________________________________________________________\n"
     ]
    }
   ],
   "source": [
    "model = tf.keras.Sequential()\n",
    "\n",
    "model.add(Embedding(num_words, 16, input_length=maxlen))\n",
    "model.add(layers.GRU(35, return_sequences=True))\n",
    "model.add(layers.GRU(35, return_sequences=True))\n",
    "model.add(layers.GRU(35, return_sequences=True))\n",
    "# The output of SimpleRNN will be a 2D tensor of shape (batch_size, 128)\n",
    "model.add(layers.SimpleRNN(35))\n",
    "\n",
    "model.add(Dense(6, activation='softmax'))\n",
    "\n",
    "# Compile the model.\n",
    "model.compile(loss='sparse_categorical_crossentropy', optimizer='adam', metrics=['accuracy'])\n",
    "model.summary()"
   ]
  },
  {
   "cell_type": "code",
   "execution_count": 62,
   "metadata": {},
   "outputs": [
    {
     "name": "stdout",
     "output_type": "stream",
     "text": [
      "Epoch 1/20\n",
      "500/500 [==============================] - 16s 21ms/step - loss: 1.2206 - accuracy: 0.5269 - val_loss: 0.7133 - val_accuracy: 0.7505\n",
      "Epoch 2/20\n",
      "500/500 [==============================] - 9s 18ms/step - loss: 0.3887 - accuracy: 0.8654 - val_loss: 0.3617 - val_accuracy: 0.8810\n",
      "Epoch 3/20\n",
      "500/500 [==============================] - 9s 19ms/step - loss: 0.1885 - accuracy: 0.9352 - val_loss: 0.2832 - val_accuracy: 0.9050\n",
      "Epoch 4/20\n",
      "500/500 [==============================] - 9s 18ms/step - loss: 0.1278 - accuracy: 0.9549 - val_loss: 0.2748 - val_accuracy: 0.9045\n",
      "Epoch 5/20\n",
      "500/500 [==============================] - 9s 18ms/step - loss: 0.0978 - accuracy: 0.9644 - val_loss: 0.2898 - val_accuracy: 0.9055\n",
      "Epoch 6/20\n",
      "500/500 [==============================] - 9s 18ms/step - loss: 0.0810 - accuracy: 0.9707 - val_loss: 0.2809 - val_accuracy: 0.9065\n",
      "Epoch 7/20\n",
      "500/500 [==============================] - 9s 18ms/step - loss: 0.0706 - accuracy: 0.9732 - val_loss: 0.3283 - val_accuracy: 0.9050\n",
      "Epoch 8/20\n",
      "500/500 [==============================] - 9s 18ms/step - loss: 0.0593 - accuracy: 0.9776 - val_loss: 0.3089 - val_accuracy: 0.9040\n",
      "Epoch 9/20\n",
      "500/500 [==============================] - 9s 19ms/step - loss: 0.0559 - accuracy: 0.9786 - val_loss: 0.3248 - val_accuracy: 0.9085\n",
      "Epoch 10/20\n",
      "500/500 [==============================] - 9s 19ms/step - loss: 0.0481 - accuracy: 0.9829 - val_loss: 0.3361 - val_accuracy: 0.9040\n",
      "Epoch 11/20\n",
      "500/500 [==============================] - 9s 19ms/step - loss: 0.0407 - accuracy: 0.9836 - val_loss: 0.3599 - val_accuracy: 0.8990\n",
      "Epoch 12/20\n",
      "500/500 [==============================] - 9s 18ms/step - loss: 0.0361 - accuracy: 0.9854 - val_loss: 0.4025 - val_accuracy: 0.9020\n",
      "Epoch 13/20\n",
      "500/500 [==============================] - 9s 19ms/step - loss: 0.0382 - accuracy: 0.9856 - val_loss: 0.3827 - val_accuracy: 0.9055\n",
      "Epoch 14/20\n",
      "500/500 [==============================] - 9s 19ms/step - loss: 0.0351 - accuracy: 0.9874 - val_loss: 0.3877 - val_accuracy: 0.9055\n",
      "Epoch 15/20\n",
      "500/500 [==============================] - 9s 19ms/step - loss: 0.0288 - accuracy: 0.9889 - val_loss: 0.3607 - val_accuracy: 0.9055\n",
      "Epoch 16/20\n",
      "500/500 [==============================] - 9s 18ms/step - loss: 0.0280 - accuracy: 0.9888 - val_loss: 0.4159 - val_accuracy: 0.8990\n",
      "Epoch 17/20\n",
      "500/500 [==============================] - 9s 18ms/step - loss: 0.0261 - accuracy: 0.9900 - val_loss: 0.4583 - val_accuracy: 0.9055\n",
      "Epoch 18/20\n",
      "500/500 [==============================] - 9s 18ms/step - loss: 0.0248 - accuracy: 0.9898 - val_loss: 0.4381 - val_accuracy: 0.9040\n",
      "Epoch 19/20\n",
      "500/500 [==============================] - 9s 19ms/step - loss: 0.0195 - accuracy: 0.9921 - val_loss: 0.4739 - val_accuracy: 0.8980\n",
      "Epoch 20/20\n",
      "500/500 [==============================] - 9s 18ms/step - loss: 0.0193 - accuracy: 0.9920 - val_loss: 0.5083 - val_accuracy: 0.8995\n"
     ]
    }
   ],
   "source": [
    "epochs = 20\n",
    "hist = model.fit(Padded_train, train['label'], epochs=epochs,validation_data=(Padded_val, val['label']),)"
   ]
  },
  {
   "cell_type": "code",
   "execution_count": 63,
   "metadata": {},
   "outputs": [
    {
     "name": "stdout",
     "output_type": "stream",
     "text": [
      "63/63 [==============================] - 0s 7ms/step - loss: 0.4948 - accuracy: 0.9040\n"
     ]
    }
   ],
   "source": [
    "test['text_tokenized'] = test['text'].apply(tokenization)\n",
    "test['text_stop'] = test['text_tokenized'].apply(stopwords_remove)\n",
    "test['text_lemmatized'] = test['text_stop'].apply(lemmatization)\n",
    "test['text_cleaned'] = test['text_lemmatized'].str.join(' ')\n",
    "\n",
    "Tokenized_test = tokenizer.texts_to_sequences(test['text_cleaned'])\n",
    "Padded_test = pad_sequences(Tokenized_test, maxlen=maxlen, padding='pre')\n",
    "\n",
    "test_evaluate = model.evaluate(Padded_test, test['label'])"
   ]
  },
  {
   "cell_type": "code",
   "execution_count": 64,
   "metadata": {},
   "outputs": [
    {
     "name": "stdout",
     "output_type": "stream",
     "text": [
      "Model: \"sequential_13\"\n",
      "_________________________________________________________________\n",
      " Layer (type)                Output Shape              Param #   \n",
      "=================================================================\n",
      " embedding_13 (Embedding)    (None, 40, 16)            160000    \n",
      "                                                                 \n",
      " gru_7 (GRU)                 (None, 40, 35)            5565      \n",
      "                                                                 \n",
      " gru_8 (GRU)                 (None, 40, 35)            7560      \n",
      "                                                                 \n",
      " gru_9 (GRU)                 (None, 35)                7560      \n",
      "                                                                 \n",
      " dense_10 (Dense)            (None, 6)                 216       \n",
      "                                                                 \n",
      "=================================================================\n",
      "Total params: 180,901\n",
      "Trainable params: 180,901\n",
      "Non-trainable params: 0\n",
      "_________________________________________________________________\n"
     ]
    }
   ],
   "source": [
    "model = tf.keras.Sequential()\n",
    "\n",
    "model.add(Embedding(num_words, 16, input_length=maxlen))\n",
    "model.add(layers.GRU(35, return_sequences=True))\n",
    "model.add(layers.GRU(35, return_sequences=True))\n",
    "model.add(layers.GRU(35))\n",
    "# The output of SimpleRNN will be a 2D tensor of shape (batch_size, 128)\n",
    "# model.add(layers.SimpleRNN(35))\n",
    "\n",
    "model.add(Dense(6, activation='softmax'))\n",
    "\n",
    "# Compile the model.\n",
    "model.compile(loss='sparse_categorical_crossentropy', optimizer='adam', metrics=['accuracy'])\n",
    "model.summary()"
   ]
  },
  {
   "cell_type": "code",
   "execution_count": 65,
   "metadata": {},
   "outputs": [
    {
     "name": "stdout",
     "output_type": "stream",
     "text": [
      "Epoch 1/20\n",
      "500/500 [==============================] - 15s 19ms/step - loss: 1.0906 - accuracy: 0.5851 - val_loss: 0.4886 - val_accuracy: 0.8475\n",
      "Epoch 2/20\n",
      "500/500 [==============================] - 8s 16ms/step - loss: 0.2957 - accuracy: 0.8968 - val_loss: 0.2991 - val_accuracy: 0.8965\n",
      "Epoch 3/20\n",
      "500/500 [==============================] - 8s 16ms/step - loss: 0.1865 - accuracy: 0.9343 - val_loss: 0.2630 - val_accuracy: 0.9040\n",
      "Epoch 4/20\n",
      "500/500 [==============================] - 8s 16ms/step - loss: 0.1385 - accuracy: 0.9475 - val_loss: 0.2765 - val_accuracy: 0.9035\n",
      "Epoch 5/20\n",
      "500/500 [==============================] - 8s 17ms/step - loss: 0.1171 - accuracy: 0.9572 - val_loss: 0.2814 - val_accuracy: 0.9000\n",
      "Epoch 6/20\n",
      "500/500 [==============================] - 8s 17ms/step - loss: 0.1010 - accuracy: 0.9624 - val_loss: 0.3009 - val_accuracy: 0.8965\n",
      "Epoch 7/20\n",
      "500/500 [==============================] - 8s 16ms/step - loss: 0.0908 - accuracy: 0.9669 - val_loss: 0.2953 - val_accuracy: 0.9010\n",
      "Epoch 8/20\n",
      "500/500 [==============================] - 8s 16ms/step - loss: 0.0794 - accuracy: 0.9694 - val_loss: 0.3354 - val_accuracy: 0.9000\n",
      "Epoch 9/20\n",
      "500/500 [==============================] - 8s 16ms/step - loss: 0.0725 - accuracy: 0.9727 - val_loss: 0.3270 - val_accuracy: 0.9015\n",
      "Epoch 10/20\n",
      "500/500 [==============================] - 8s 17ms/step - loss: 0.0620 - accuracy: 0.9771 - val_loss: 0.3761 - val_accuracy: 0.8960\n",
      "Epoch 11/20\n",
      "500/500 [==============================] - 8s 16ms/step - loss: 0.0571 - accuracy: 0.9777 - val_loss: 0.4048 - val_accuracy: 0.8940\n",
      "Epoch 12/20\n",
      "500/500 [==============================] - 8s 17ms/step - loss: 0.0561 - accuracy: 0.9791 - val_loss: 0.3802 - val_accuracy: 0.8985\n",
      "Epoch 13/20\n",
      "500/500 [==============================] - 8s 17ms/step - loss: 0.0485 - accuracy: 0.9820 - val_loss: 0.3801 - val_accuracy: 0.8985\n",
      "Epoch 14/20\n",
      "500/500 [==============================] - 8s 17ms/step - loss: 0.0404 - accuracy: 0.9860 - val_loss: 0.4050 - val_accuracy: 0.9005\n",
      "Epoch 15/20\n",
      "500/500 [==============================] - 8s 17ms/step - loss: 0.0400 - accuracy: 0.9849 - val_loss: 0.4197 - val_accuracy: 0.8995\n",
      "Epoch 16/20\n",
      "500/500 [==============================] - 8s 17ms/step - loss: 0.0418 - accuracy: 0.9845 - val_loss: 0.4165 - val_accuracy: 0.8980\n",
      "Epoch 17/20\n",
      "500/500 [==============================] - 8s 17ms/step - loss: 0.0367 - accuracy: 0.9856 - val_loss: 0.4366 - val_accuracy: 0.8980\n",
      "Epoch 18/20\n",
      "500/500 [==============================] - 8s 17ms/step - loss: 0.0343 - accuracy: 0.9866 - val_loss: 0.4481 - val_accuracy: 0.8995\n",
      "Epoch 19/20\n",
      "500/500 [==============================] - 8s 17ms/step - loss: 0.0346 - accuracy: 0.9869 - val_loss: 0.4438 - val_accuracy: 0.8950\n",
      "Epoch 20/20\n",
      "500/500 [==============================] - 8s 17ms/step - loss: 0.0369 - accuracy: 0.9864 - val_loss: 0.4287 - val_accuracy: 0.9010\n"
     ]
    }
   ],
   "source": [
    "epochs = 20\n",
    "hist = model.fit(Padded_train, train['label'], epochs=epochs,validation_data=(Padded_val, val['label']),)"
   ]
  },
  {
   "cell_type": "code",
   "execution_count": 66,
   "metadata": {},
   "outputs": [
    {
     "name": "stdout",
     "output_type": "stream",
     "text": [
      "63/63 [==============================] - 0s 6ms/step - loss: 0.4469 - accuracy: 0.8940\n"
     ]
    }
   ],
   "source": [
    "test['text_tokenized'] = test['text'].apply(tokenization)\n",
    "test['text_stop'] = test['text_tokenized'].apply(stopwords_remove)\n",
    "test['text_lemmatized'] = test['text_stop'].apply(lemmatization)\n",
    "test['text_cleaned'] = test['text_lemmatized'].str.join(' ')\n",
    "\n",
    "Tokenized_test = tokenizer.texts_to_sequences(test['text_cleaned'])\n",
    "Padded_test = pad_sequences(Tokenized_test, maxlen=maxlen, padding='pre')\n",
    "\n",
    "test_evaluate = model.evaluate(Padded_test, test['label'])"
   ]
  },
  {
   "cell_type": "code",
   "execution_count": 67,
   "metadata": {},
   "outputs": [
    {
     "name": "stdout",
     "output_type": "stream",
     "text": [
      "Model: \"sequential_14\"\n",
      "_________________________________________________________________\n",
      " Layer (type)                Output Shape              Param #   \n",
      "=================================================================\n",
      " embedding_14 (Embedding)    (None, 40, 16)            160000    \n",
      "                                                                 \n",
      " simple_rnn_2 (SimpleRNN)    (None, 40, 35)            1820      \n",
      "                                                                 \n",
      " simple_rnn_3 (SimpleRNN)    (None, 40, 35)            2485      \n",
      "                                                                 \n",
      " simple_rnn_4 (SimpleRNN)    (None, 40, 35)            2485      \n",
      "                                                                 \n",
      " simple_rnn_5 (SimpleRNN)    (None, 35)                2485      \n",
      "                                                                 \n",
      " dense_11 (Dense)            (None, 6)                 216       \n",
      "                                                                 \n",
      "=================================================================\n",
      "Total params: 169,491\n",
      "Trainable params: 169,491\n",
      "Non-trainable params: 0\n",
      "_________________________________________________________________\n"
     ]
    }
   ],
   "source": [
    "model = tf.keras.Sequential()\n",
    "\n",
    "model.add(Embedding(num_words, 16, input_length=maxlen))\n",
    "model.add(layers.SimpleRNN(35,return_sequences=True))\n",
    "model.add(layers.SimpleRNN(35,return_sequences=True))\n",
    "model.add(layers.SimpleRNN(35,return_sequences=True))\n",
    "# The output of SimpleRNN will be a 2D tensor of shape (batch_size, 128)\n",
    "model.add(layers.SimpleRNN(35))\n",
    "\n",
    "model.add(Dense(6, activation='softmax'))\n",
    "\n",
    "# Compile the model.\n",
    "model.compile(loss='sparse_categorical_crossentropy', optimizer='adam', metrics=['accuracy'])\n",
    "model.summary()"
   ]
  },
  {
   "cell_type": "code",
   "execution_count": 68,
   "metadata": {},
   "outputs": [
    {
     "name": "stdout",
     "output_type": "stream",
     "text": [
      "Epoch 1/20\n",
      "500/500 [==============================] - 10s 14ms/step - loss: 1.5829 - accuracy: 0.3335 - val_loss: 1.5329 - val_accuracy: 0.4075\n",
      "Epoch 2/20\n",
      "500/500 [==============================] - 6s 13ms/step - loss: 1.0597 - accuracy: 0.6181 - val_loss: 0.8884 - val_accuracy: 0.6840\n",
      "Epoch 3/20\n",
      "500/500 [==============================] - 6s 13ms/step - loss: 0.5114 - accuracy: 0.8278 - val_loss: 0.6661 - val_accuracy: 0.7775\n",
      "Epoch 4/20\n",
      "500/500 [==============================] - 6s 13ms/step - loss: 0.2398 - accuracy: 0.9249 - val_loss: 0.6673 - val_accuracy: 0.7940\n",
      "Epoch 5/20\n",
      "500/500 [==============================] - 6s 13ms/step - loss: 0.1380 - accuracy: 0.9583 - val_loss: 0.7020 - val_accuracy: 0.7940\n",
      "Epoch 6/20\n",
      "500/500 [==============================] - 6s 13ms/step - loss: 0.1010 - accuracy: 0.9697 - val_loss: 0.7590 - val_accuracy: 0.8035\n",
      "Epoch 7/20\n",
      "500/500 [==============================] - 6s 13ms/step - loss: 0.0726 - accuracy: 0.9776 - val_loss: 0.8852 - val_accuracy: 0.7855\n",
      "Epoch 8/20\n",
      "500/500 [==============================] - 6s 13ms/step - loss: 0.1100 - accuracy: 0.9650 - val_loss: 0.9119 - val_accuracy: 0.7710\n",
      "Epoch 9/20\n",
      "500/500 [==============================] - 6s 13ms/step - loss: 0.0779 - accuracy: 0.9746 - val_loss: 0.9196 - val_accuracy: 0.7875\n",
      "Epoch 10/20\n",
      "500/500 [==============================] - 6s 13ms/step - loss: 0.0453 - accuracy: 0.9849 - val_loss: 0.9570 - val_accuracy: 0.7950\n",
      "Epoch 11/20\n",
      "500/500 [==============================] - 6s 13ms/step - loss: 0.0361 - accuracy: 0.9894 - val_loss: 1.0839 - val_accuracy: 0.7765\n",
      "Epoch 12/20\n",
      "500/500 [==============================] - 6s 13ms/step - loss: 0.0308 - accuracy: 0.9901 - val_loss: 1.0974 - val_accuracy: 0.7730\n",
      "Epoch 13/20\n",
      "500/500 [==============================] - 6s 13ms/step - loss: 0.0291 - accuracy: 0.9900 - val_loss: 1.1236 - val_accuracy: 0.7785\n",
      "Epoch 14/20\n",
      "500/500 [==============================] - 6s 13ms/step - loss: 0.0354 - accuracy: 0.9882 - val_loss: 1.2895 - val_accuracy: 0.7480\n",
      "Epoch 15/20\n",
      "500/500 [==============================] - 6s 13ms/step - loss: 0.0545 - accuracy: 0.9825 - val_loss: 1.0871 - val_accuracy: 0.7885\n",
      "Epoch 16/20\n",
      "500/500 [==============================] - 6s 13ms/step - loss: 0.0309 - accuracy: 0.9901 - val_loss: 1.1820 - val_accuracy: 0.7835\n",
      "Epoch 17/20\n",
      "500/500 [==============================] - 6s 13ms/step - loss: 0.0298 - accuracy: 0.9894 - val_loss: 1.1470 - val_accuracy: 0.7775\n",
      "Epoch 18/20\n",
      "500/500 [==============================] - 6s 13ms/step - loss: 0.0294 - accuracy: 0.9897 - val_loss: 1.1594 - val_accuracy: 0.7740\n",
      "Epoch 19/20\n",
      "500/500 [==============================] - 6s 13ms/step - loss: 0.0672 - accuracy: 0.9789 - val_loss: 1.2479 - val_accuracy: 0.7605\n",
      "Epoch 20/20\n",
      "500/500 [==============================] - 6s 13ms/step - loss: 0.0274 - accuracy: 0.9901 - val_loss: 1.1795 - val_accuracy: 0.7695\n"
     ]
    }
   ],
   "source": [
    "epochs = 20\n",
    "hist = model.fit(Padded_train, train['label'], epochs=epochs,validation_data=(Padded_val, val['label']),)"
   ]
  },
  {
   "cell_type": "code",
   "execution_count": 69,
   "metadata": {},
   "outputs": [
    {
     "name": "stdout",
     "output_type": "stream",
     "text": [
      "63/63 [==============================] - 0s 4ms/step - loss: 1.0610 - accuracy: 0.7850\n"
     ]
    }
   ],
   "source": [
    "test['text_tokenized'] = test['text'].apply(tokenization)\n",
    "test['text_stop'] = test['text_tokenized'].apply(stopwords_remove)\n",
    "test['text_lemmatized'] = test['text_stop'].apply(lemmatization)\n",
    "test['text_cleaned'] = test['text_lemmatized'].str.join(' ')\n",
    "\n",
    "Tokenized_test = tokenizer.texts_to_sequences(test['text_cleaned'])\n",
    "Padded_test = pad_sequences(Tokenized_test, maxlen=maxlen, padding='pre')\n",
    "\n",
    "test_evaluate = model.evaluate(Padded_test, test['label'])"
   ]
  },
  {
   "cell_type": "code",
   "execution_count": 24,
   "metadata": {},
   "outputs": [
    {
     "name": "stdout",
     "output_type": "stream",
     "text": [
      "Model: \"sequential_2\"\n",
      "_________________________________________________________________\n",
      " Layer (type)                Output Shape              Param #   \n",
      "=================================================================\n",
      " embedding_2 (Embedding)     (None, 40, 16)            160000    \n",
      "                                                                 \n",
      " gru_6 (GRU)                 (None, 40, 35)            5565      \n",
      "                                                                 \n",
      " lstm_1 (LSTM)               (None, 40, 35)            9940      \n",
      "                                                                 \n",
      " gru_7 (GRU)                 (None, 35)                7560      \n",
      "                                                                 \n",
      " dense_2 (Dense)             (None, 6)                 216       \n",
      "                                                                 \n",
      "=================================================================\n",
      "Total params: 183,281\n",
      "Trainable params: 183,281\n",
      "Non-trainable params: 0\n",
      "_________________________________________________________________\n"
     ]
    }
   ],
   "source": [
    "model = tf.keras.Sequential()\n",
    "\n",
    "model.add(Embedding(num_words, 16, input_length=maxlen))\n",
    "model.add(layers.GRU(35, return_sequences=True))\n",
    "model.add(layers.GRU(35, return_sequences=True))\n",
    "model.add(layers.GRU(35, return_sequences=True))\n",
    "model.add(layers.GRU(35))\n",
    "# The output of SimpleRNN will be a 2D tensor of shape (batch_size, 128)\n",
    "# model.add(layers.SimpleRNN(35))\n",
    "\n",
    "model.add(Dense(6, activation='softmax'))\n",
    "\n",
    "# Compile the model.\n",
    "model.compile(loss='sparse_categorical_crossentropy', optimizer='adam', metrics=['accuracy'])\n",
    "model.summary()"
   ]
  },
  {
   "cell_type": "code",
   "execution_count": 25,
   "metadata": {},
   "outputs": [
    {
     "name": "stdout",
     "output_type": "stream",
     "text": [
      "Epoch 1/20\n",
      "500/500 [==============================] - 14s 20ms/step - loss: 1.2076 - accuracy: 0.5233 - val_loss: 0.6576 - val_accuracy: 0.7665\n",
      "Epoch 2/20\n",
      "500/500 [==============================] - 8s 16ms/step - loss: 0.3900 - accuracy: 0.8685 - val_loss: 0.3999 - val_accuracy: 0.8680\n",
      "Epoch 3/20\n",
      "500/500 [==============================] - 8s 16ms/step - loss: 0.2366 - accuracy: 0.9197 - val_loss: 0.3307 - val_accuracy: 0.8865\n",
      "Epoch 4/20\n",
      "500/500 [==============================] - 8s 16ms/step - loss: 0.1821 - accuracy: 0.9385 - val_loss: 0.3370 - val_accuracy: 0.8900\n",
      "Epoch 5/20\n",
      "500/500 [==============================] - 8s 16ms/step - loss: 0.1434 - accuracy: 0.9461 - val_loss: 0.3258 - val_accuracy: 0.8935\n",
      "Epoch 6/20\n",
      "500/500 [==============================] - 8s 17ms/step - loss: 0.1072 - accuracy: 0.9603 - val_loss: 0.3730 - val_accuracy: 0.8870\n",
      "Epoch 7/20\n",
      "500/500 [==============================] - 8s 16ms/step - loss: 0.0894 - accuracy: 0.9679 - val_loss: 0.3944 - val_accuracy: 0.8860\n",
      "Epoch 8/20\n",
      "500/500 [==============================] - 8s 16ms/step - loss: 0.0800 - accuracy: 0.9708 - val_loss: 0.4060 - val_accuracy: 0.8855\n",
      "Epoch 9/20\n",
      "500/500 [==============================] - 8s 16ms/step - loss: 0.0716 - accuracy: 0.9726 - val_loss: 0.3967 - val_accuracy: 0.8840\n",
      "Epoch 10/20\n",
      "500/500 [==============================] - 8s 16ms/step - loss: 0.0619 - accuracy: 0.9762 - val_loss: 0.4126 - val_accuracy: 0.8865\n",
      "Epoch 11/20\n",
      "500/500 [==============================] - 8s 16ms/step - loss: 0.0553 - accuracy: 0.9794 - val_loss: 0.4410 - val_accuracy: 0.8835\n",
      "Epoch 12/20\n",
      "500/500 [==============================] - 8s 16ms/step - loss: 0.0504 - accuracy: 0.9809 - val_loss: 0.4805 - val_accuracy: 0.8850\n",
      "Epoch 13/20\n",
      "500/500 [==============================] - 8s 16ms/step - loss: 0.0433 - accuracy: 0.9843 - val_loss: 0.4973 - val_accuracy: 0.8820\n",
      "Epoch 14/20\n",
      "500/500 [==============================] - 8s 16ms/step - loss: 0.0387 - accuracy: 0.9856 - val_loss: 0.5440 - val_accuracy: 0.8795\n",
      "Epoch 15/20\n",
      "500/500 [==============================] - 8s 16ms/step - loss: 0.0416 - accuracy: 0.9850 - val_loss: 0.4968 - val_accuracy: 0.8850\n",
      "Epoch 16/20\n",
      "500/500 [==============================] - 8s 16ms/step - loss: 0.0365 - accuracy: 0.9862 - val_loss: 0.4712 - val_accuracy: 0.8875\n",
      "Epoch 17/20\n",
      "500/500 [==============================] - 8s 16ms/step - loss: 0.0349 - accuracy: 0.9874 - val_loss: 0.4928 - val_accuracy: 0.8845\n",
      "Epoch 18/20\n",
      "500/500 [==============================] - 8s 16ms/step - loss: 0.0299 - accuracy: 0.9896 - val_loss: 0.4555 - val_accuracy: 0.8925\n",
      "Epoch 19/20\n",
      "500/500 [==============================] - 8s 16ms/step - loss: 0.0307 - accuracy: 0.9884 - val_loss: 0.5287 - val_accuracy: 0.8830\n",
      "Epoch 20/20\n",
      "500/500 [==============================] - 8s 16ms/step - loss: 0.0299 - accuracy: 0.9884 - val_loss: 0.5135 - val_accuracy: 0.8890\n"
     ]
    }
   ],
   "source": [
    "epochs = 20\n",
    "hist = model.fit(Padded_train, train['label'], epochs=epochs,validation_data=(Padded_val, val['label']),)"
   ]
  },
  {
   "cell_type": "code",
   "execution_count": 26,
   "metadata": {},
   "outputs": [
    {
     "name": "stdout",
     "output_type": "stream",
     "text": [
      "63/63 [==============================] - 0s 7ms/step - loss: 0.4827 - accuracy: 0.8875\n"
     ]
    }
   ],
   "source": [
    "test['text_tokenized'] = test['text'].apply(tokenization)\n",
    "test['text_stop'] = test['text_tokenized'].apply(stopwords_remove)\n",
    "test['text_lemmatized'] = test['text_stop'].apply(lemmatization)\n",
    "test['text_cleaned'] = test['text_lemmatized'].str.join(' ')\n",
    "\n",
    "Tokenized_test = tokenizer.texts_to_sequences(test['text_cleaned'])\n",
    "Padded_test = pad_sequences(Tokenized_test, maxlen=maxlen, padding='pre')\n",
    "\n",
    "test_evaluate = model.evaluate(Padded_test, test['label'])"
   ]
  },
  {
   "cell_type": "code",
   "execution_count": 81,
   "metadata": {},
   "outputs": [
    {
     "name": "stdout",
     "output_type": "stream",
     "text": [
      "Model: \"sequential_22\"\n",
      "_________________________________________________________________\n",
      " Layer (type)                Output Shape              Param #   \n",
      "=================================================================\n",
      " embedding_22 (Embedding)    (None, 40, 16)            160000    \n",
      "                                                                 \n",
      " conv1d_16 (Conv1D)          (None, 40, 35)            595       \n",
      "                                                                 \n",
      " dropout_14 (Dropout)        (None, 40, 35)            0         \n",
      "                                                                 \n",
      " gru_61 (GRU)                (None, 40, 35)            7560      \n",
      "                                                                 \n",
      " gru_62 (GRU)                (None, 40, 35)            7560      \n",
      "                                                                 \n",
      " gru_63 (GRU)                (None, 40, 35)            7560      \n",
      "                                                                 \n",
      " simple_rnn_16 (SimpleRNN)   (None, 35)                2485      \n",
      "                                                                 \n",
      " dense_21 (Dense)            (None, 6)                 216       \n",
      "                                                                 \n",
      "=================================================================\n",
      "Total params: 185,976\n",
      "Trainable params: 185,976\n",
      "Non-trainable params: 0\n",
      "_________________________________________________________________\n"
     ]
    }
   ],
   "source": [
    "model = tf.keras.Sequential()\n",
    "\n",
    "model.add(Embedding(num_words, 16, input_length=maxlen))\n",
    "model.add(tf.keras.layers.Conv1D(35, kernel_size=1, activation='relu'))\n",
    "model.add(Dropout(0.3))\n",
    "model.add(layers.GRU(35, return_sequences=True))\n",
    "model.add(layers.GRU(35, return_sequences=True))\n",
    "model.add(layers.GRU(35, return_sequences=True))\n",
    "# The output of SimpleRNN will be a 2D tensor of shape (batch_size, 128)\n",
    "model.add(layers.SimpleRNN(35))\n",
    "\n",
    "model.add(Dense(6, activation='softmax'))\n",
    "\n",
    "# Compile the model.\n",
    "model.compile(loss='sparse_categorical_crossentropy', optimizer='adam', metrics=['accuracy'])\n",
    "model.summary()"
   ]
  },
  {
   "cell_type": "code",
   "execution_count": 82,
   "metadata": {},
   "outputs": [
    {
     "name": "stdout",
     "output_type": "stream",
     "text": [
      "Epoch 1/15\n",
      "500/500 [==============================] - 19s 23ms/step - loss: 1.3028 - accuracy: 0.4994 - val_loss: 0.7431 - val_accuracy: 0.7450\n",
      "Epoch 2/15\n",
      "500/500 [==============================] - 10s 20ms/step - loss: 0.5344 - accuracy: 0.8136 - val_loss: 0.4031 - val_accuracy: 0.8675\n",
      "Epoch 3/15\n",
      "500/500 [==============================] - 10s 20ms/step - loss: 0.2989 - accuracy: 0.8953 - val_loss: 0.2604 - val_accuracy: 0.9110\n",
      "Epoch 4/15\n",
      "500/500 [==============================] - 10s 20ms/step - loss: 0.2232 - accuracy: 0.9189 - val_loss: 0.2515 - val_accuracy: 0.9035\n",
      "Epoch 5/15\n",
      "500/500 [==============================] - 10s 20ms/step - loss: 0.1850 - accuracy: 0.9317 - val_loss: 0.2298 - val_accuracy: 0.9150\n",
      "Epoch 6/15\n",
      "500/500 [==============================] - 10s 20ms/step - loss: 0.1571 - accuracy: 0.9411 - val_loss: 0.2354 - val_accuracy: 0.9115\n",
      "Epoch 7/15\n",
      "500/500 [==============================] - 10s 20ms/step - loss: 0.1370 - accuracy: 0.9476 - val_loss: 0.2412 - val_accuracy: 0.9120\n",
      "Epoch 8/15\n",
      "500/500 [==============================] - 10s 20ms/step - loss: 0.1215 - accuracy: 0.9521 - val_loss: 0.2432 - val_accuracy: 0.9130\n",
      "Epoch 9/15\n",
      "500/500 [==============================] - 10s 20ms/step - loss: 0.1158 - accuracy: 0.9541 - val_loss: 0.2391 - val_accuracy: 0.9155\n",
      "Epoch 10/15\n",
      "500/500 [==============================] - 10s 20ms/step - loss: 0.1058 - accuracy: 0.9579 - val_loss: 0.2456 - val_accuracy: 0.9165\n",
      "Epoch 11/15\n",
      "500/500 [==============================] - 10s 20ms/step - loss: 0.1022 - accuracy: 0.9597 - val_loss: 0.2307 - val_accuracy: 0.9180\n",
      "Epoch 12/15\n",
      "500/500 [==============================] - 10s 20ms/step - loss: 0.0949 - accuracy: 0.9616 - val_loss: 0.2686 - val_accuracy: 0.9130\n",
      "Epoch 13/15\n",
      "500/500 [==============================] - 10s 21ms/step - loss: 0.0888 - accuracy: 0.9652 - val_loss: 0.2506 - val_accuracy: 0.9165\n",
      "Epoch 14/15\n",
      "500/500 [==============================] - 10s 20ms/step - loss: 0.0831 - accuracy: 0.9647 - val_loss: 0.2588 - val_accuracy: 0.9205\n",
      "Epoch 15/15\n",
      "500/500 [==============================] - 10s 20ms/step - loss: 0.0783 - accuracy: 0.9699 - val_loss: 0.2551 - val_accuracy: 0.9235\n"
     ]
    }
   ],
   "source": [
    "epochs = 15\n",
    "hist = model.fit(Padded_train, train['label'], epochs=epochs,validation_data=(Padded_val, val['label']),)"
   ]
  },
  {
   "cell_type": "code",
   "execution_count": 83,
   "metadata": {},
   "outputs": [
    {
     "name": "stdout",
     "output_type": "stream",
     "text": [
      "63/63 [==============================] - 0s 7ms/step - loss: 0.2935 - accuracy: 0.9110\n"
     ]
    }
   ],
   "source": [
    "test['text_tokenized'] = test['text'].apply(tokenization)\n",
    "test['text_stop'] = test['text_tokenized'].apply(stopwords_remove)\n",
    "test['text_lemmatized'] = test['text_stop'].apply(lemmatization)\n",
    "test['text_cleaned'] = test['text_lemmatized'].str.join(' ')\n",
    "\n",
    "Tokenized_test = tokenizer.texts_to_sequences(test['text_cleaned'])\n",
    "Padded_test = pad_sequences(Tokenized_test, maxlen=maxlen, padding='pre')\n",
    "\n",
    "test_evaluate = model.evaluate(Padded_test, test['label'])"
   ]
  },
  {
   "cell_type": "code",
   "execution_count": 75,
   "metadata": {},
   "outputs": [
    {
     "name": "stdout",
     "output_type": "stream",
     "text": [
      "Model: \"sequential_20\"\n",
      "_________________________________________________________________\n",
      " Layer (type)                Output Shape              Param #   \n",
      "=================================================================\n",
      " embedding_20 (Embedding)    (None, 40, 16)            160000    \n",
      "                                                                 \n",
      " conv1d_14 (Conv1D)          (None, 40, 35)            595       \n",
      "                                                                 \n",
      " gru_55 (GRU)                (None, 40, 35)            7560      \n",
      "                                                                 \n",
      " gru_56 (GRU)                (None, 40, 35)            7560      \n",
      "                                                                 \n",
      " gru_57 (GRU)                (None, 40, 35)            7560      \n",
      "                                                                 \n",
      " lstm_10 (LSTM)              (None, 35)                9940      \n",
      "                                                                 \n",
      " dense_19 (Dense)            (None, 6)                 216       \n",
      "                                                                 \n",
      "=================================================================\n",
      "Total params: 193,431\n",
      "Trainable params: 193,431\n",
      "Non-trainable params: 0\n",
      "_________________________________________________________________\n"
     ]
    }
   ],
   "source": [
    "model = tf.keras.Sequential()\n",
    "\n",
    "model.add(Embedding(num_words, 16, input_length=maxlen))\n",
    "model.add(tf.keras.layers.Conv1D(35, kernel_size=1, activation='relu'))\n",
    "model.add(layers.GRU(35, return_sequences=True))\n",
    "model.add(layers.GRU(35, return_sequences=True))\n",
    "model.add(layers.GRU(35, return_sequences=True))\n",
    "model.add(tf.keras.layers.LSTM(35))\n",
    "\n",
    "model.add(Dense(6, activation='softmax'))\n",
    "\n",
    "# Compile the model.\n",
    "model.compile(loss='sparse_categorical_crossentropy', optimizer='adam', metrics=['accuracy'])\n",
    "model.summary()"
   ]
  },
  {
   "cell_type": "code",
   "execution_count": 76,
   "metadata": {},
   "outputs": [
    {
     "name": "stdout",
     "output_type": "stream",
     "text": [
      "Epoch 1/20\n",
      "500/500 [==============================] - 21s 29ms/step - loss: 1.2514 - accuracy: 0.4888 - val_loss: 0.7250 - val_accuracy: 0.7575\n",
      "Epoch 2/20\n",
      "500/500 [==============================] - 12s 24ms/step - loss: 0.4641 - accuracy: 0.8515 - val_loss: 0.4136 - val_accuracy: 0.8670\n",
      "Epoch 3/20\n",
      "500/500 [==============================] - 12s 24ms/step - loss: 0.2627 - accuracy: 0.9133 - val_loss: 0.2875 - val_accuracy: 0.9020\n",
      "Epoch 4/20\n",
      "500/500 [==============================] - 12s 24ms/step - loss: 0.1950 - accuracy: 0.9349 - val_loss: 0.2944 - val_accuracy: 0.8955\n",
      "Epoch 5/20\n",
      "500/500 [==============================] - 12s 24ms/step - loss: 0.1566 - accuracy: 0.9459 - val_loss: 0.2818 - val_accuracy: 0.9065\n",
      "Epoch 6/20\n",
      "500/500 [==============================] - 12s 24ms/step - loss: 0.1340 - accuracy: 0.9515 - val_loss: 0.2893 - val_accuracy: 0.9075\n",
      "Epoch 7/20\n",
      "500/500 [==============================] - 12s 24ms/step - loss: 0.1210 - accuracy: 0.9561 - val_loss: 0.2832 - val_accuracy: 0.9020\n",
      "Epoch 8/20\n",
      "500/500 [==============================] - 12s 25ms/step - loss: 0.0990 - accuracy: 0.9624 - val_loss: 0.3141 - val_accuracy: 0.9010\n",
      "Epoch 9/20\n",
      "500/500 [==============================] - 12s 24ms/step - loss: 0.0909 - accuracy: 0.9657 - val_loss: 0.3091 - val_accuracy: 0.8990\n",
      "Epoch 10/20\n",
      "500/500 [==============================] - 12s 24ms/step - loss: 0.0823 - accuracy: 0.9686 - val_loss: 0.3272 - val_accuracy: 0.9045\n",
      "Epoch 11/20\n",
      "500/500 [==============================] - 12s 24ms/step - loss: 0.0678 - accuracy: 0.9729 - val_loss: 0.3323 - val_accuracy: 0.9015\n",
      "Epoch 12/20\n",
      "500/500 [==============================] - 12s 24ms/step - loss: 0.0680 - accuracy: 0.9745 - val_loss: 0.3979 - val_accuracy: 0.8965\n",
      "Epoch 13/20\n",
      "500/500 [==============================] - 12s 25ms/step - loss: 0.0562 - accuracy: 0.9793 - val_loss: 0.3745 - val_accuracy: 0.9025\n",
      "Epoch 14/20\n",
      "500/500 [==============================] - 12s 24ms/step - loss: 0.0524 - accuracy: 0.9794 - val_loss: 0.3806 - val_accuracy: 0.9030\n",
      "Epoch 15/20\n",
      "500/500 [==============================] - 12s 24ms/step - loss: 0.0548 - accuracy: 0.9794 - val_loss: 0.4065 - val_accuracy: 0.8935\n",
      "Epoch 16/20\n",
      "500/500 [==============================] - 12s 24ms/step - loss: 0.0454 - accuracy: 0.9826 - val_loss: 0.4237 - val_accuracy: 0.9030\n",
      "Epoch 17/20\n",
      "500/500 [==============================] - 12s 24ms/step - loss: 0.0452 - accuracy: 0.9826 - val_loss: 0.4167 - val_accuracy: 0.8950\n",
      "Epoch 18/20\n",
      "500/500 [==============================] - 12s 24ms/step - loss: 0.0449 - accuracy: 0.9837 - val_loss: 0.4108 - val_accuracy: 0.9020\n",
      "Epoch 19/20\n",
      "500/500 [==============================] - 12s 24ms/step - loss: 0.0392 - accuracy: 0.9855 - val_loss: 0.4443 - val_accuracy: 0.8875\n",
      "Epoch 20/20\n",
      "500/500 [==============================] - 12s 24ms/step - loss: 0.0440 - accuracy: 0.9839 - val_loss: 0.3916 - val_accuracy: 0.9040\n"
     ]
    }
   ],
   "source": [
    "epochs = 20\n",
    "hist = model.fit(Padded_train, train['label'], epochs=epochs,validation_data=(Padded_val, val['label']),)"
   ]
  },
  {
   "cell_type": "code",
   "execution_count": 77,
   "metadata": {},
   "outputs": [
    {
     "name": "stdout",
     "output_type": "stream",
     "text": [
      "63/63 [==============================] - 1s 9ms/step - loss: 0.4177 - accuracy: 0.8975\n"
     ]
    }
   ],
   "source": [
    "test['text_tokenized'] = test['text'].apply(tokenization)\n",
    "test['text_stop'] = test['text_tokenized'].apply(stopwords_remove)\n",
    "test['text_lemmatized'] = test['text_stop'].apply(lemmatization)\n",
    "test['text_cleaned'] = test['text_lemmatized'].str.join(' ')\n",
    "\n",
    "Tokenized_test = tokenizer.texts_to_sequences(test['text_cleaned'])\n",
    "Padded_test = pad_sequences(Tokenized_test, maxlen=maxlen, padding='pre')\n",
    "\n",
    "test_evaluate = model.evaluate(Padded_test, test['label'])"
   ]
  }
 ],
 "metadata": {
  "kernelspec": {
   "display_name": "Python 3",
   "language": "python",
   "name": "python3"
  },
  "language_info": {
   "codemirror_mode": {
    "name": "ipython",
    "version": 3
   },
   "file_extension": ".py",
   "mimetype": "text/x-python",
   "name": "python",
   "nbconvert_exporter": "python",
   "pygments_lexer": "ipython3",
   "version": "3.11.2"
  }
 },
 "nbformat": 4,
 "nbformat_minor": 2
}
